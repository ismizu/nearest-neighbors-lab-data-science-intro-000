{
 "cells": [
  {
   "cell_type": "markdown",
   "metadata": {},
   "source": [
    "# Nearest Neighbors Lab"
   ]
  },
  {
   "cell_type": "markdown",
   "metadata": {},
   "source": [
    "### Introduction\n",
    "\n",
    "In this lab, you apply nearest neighbors technique to help a taxi company predict the length of their rides.  Imagine that we are hired to consult for LiftOff, a limo and taxi service that is just opening up in NYC.  Liftoff wants it's taxi drivers to target longer rides, as the longer the ride the more money it makes.  LiftOff has the following theory:\n",
    "\n",
    "* the pickup location of a taxi ride can help predict the length of the ride.  \n",
    "\n",
    "\n",
    "\n",
    "LiftOff asks us to do some analysis to write a function that will allow it to **predict the length of a taxi ride for any given location **.\n",
    "\n",
    "Our technique will be the following:\n",
    "  * **Collect** Obtain the data containing all of the taxi information, and only select the attributes of taxi trips that we need \n",
    "  * ** Explore ** Examine the attributes of our data, and plot some of our data on a map\n",
    "  * ** Train ** Write our nearest neighbors formula, and change the number of nearby trips to predict the length of a new trip\n",
    "  * ** Predict ** Use our function to predict trip lengths of new locations"
   ]
  },
  {
   "cell_type": "markdown",
   "metadata": {},
   "source": [
    "### Collect and Explore the data"
   ]
  },
  {
   "cell_type": "markdown",
   "metadata": {},
   "source": [
    "#### Collect the Data"
   ]
  },
  {
   "cell_type": "markdown",
   "metadata": {},
   "source": [
    "Luckily for us, [NYC Open Data](https://opendata.cityofnewyork.us/) collects information about NYC taxi trips and provides this data on [its website](https://data.cityofnewyork.us/Transportation/2014-Yellow-Taxi-Trip-Data/gn7m-em8n)."
   ]
  },
  {
   "cell_type": "markdown",
   "metadata": {},
   "source": [
    "![](./nyc-taxi.png)"
   ]
  },
  {
   "cell_type": "markdown",
   "metadata": {},
   "source": [
    "For your reading pleasure, the data has already been downloaded into the [trips.json](https://github.com/learn-co-curriculum/nearest-neighbors-lab/blob/master/trips.json) file in this lab which you can find here.  We'll use Python's `json` library to take the data from the `trips.json` file and store it as a variable in our notebook."
   ]
  },
  {
   "cell_type": "code",
   "execution_count": 1,
   "metadata": {},
   "outputs": [],
   "source": [
    "import json\n",
    "# First, read the file\n",
    "trips_file = open('trips.json')\n",
    "# Then, convert contents to list of dictionaries \n",
    "trips = json.load(trips_file)"
   ]
  },
  {
   "cell_type": "markdown",
   "metadata": {},
   "source": [
    "> Press shift + enter"
   ]
  },
  {
   "cell_type": "markdown",
   "metadata": {},
   "source": [
    "#### Explore the data"
   ]
  },
  {
   "cell_type": "markdown",
   "metadata": {},
   "source": [
    "The next step is to explore the data.  First, let's see how many trips we have."
   ]
  },
  {
   "cell_type": "code",
   "execution_count": 2,
   "metadata": {},
   "outputs": [
    {
     "data": {
      "text/plain": [
       "1000"
      ]
     },
     "execution_count": 2,
     "metadata": {},
     "output_type": "execute_result"
    }
   ],
   "source": [
    "len(trips)"
   ]
  },
  {
   "cell_type": "markdown",
   "metadata": {},
   "source": [
    "Not bad at all.  Now let's see what each individual trip looks like.  Each trip is a dictionary, so we can see the attributes of each trip with the `keys` function."
   ]
  },
  {
   "cell_type": "code",
   "execution_count": 3,
   "metadata": {
    "scrolled": true
   },
   "outputs": [
    {
     "data": {
      "text/plain": [
       "dict_keys(['dropoff_datetime', 'dropoff_latitude', 'dropoff_longitude', 'fare_amount', 'imp_surcharge', 'mta_tax', 'passenger_count', 'payment_type', 'pickup_datetime', 'pickup_latitude', 'pickup_longitude', 'rate_code', 'tip_amount', 'tolls_amount', 'total_amount', 'trip_distance', 'vendor_id'])"
      ]
     },
     "execution_count": 3,
     "metadata": {},
     "output_type": "execute_result"
    }
   ],
   "source": [
    "trips[0].keys()"
   ]
  },
  {
   "cell_type": "markdown",
   "metadata": {},
   "source": [
    "#### Limit our data"
   ]
  },
  {
   "cell_type": "markdown",
   "metadata": {},
   "source": [
    "Ok, now that we have explored some of our data, let's begin to think through what data is relevant for our task."
   ]
  },
  {
   "cell_type": "markdown",
   "metadata": {
    "collapsed": true
   },
   "source": [
    "Remember that our task is to **use the trip location to predict the length of a trip**.  So let's select the `pickup_latitude`, `pickup_longitude`, and `trip_distance` from each trip.  That will give us the trip location and related `trip_distance` for each trip.  Then based on these **actual** trip distances we can use nearest neighbors to predict an **expected** trip distance for a trip, provided an **actual** location."
   ]
  },
  {
   "cell_type": "markdown",
   "metadata": {},
   "source": [
    "** Add in about trip distance ** "
   ]
  },
  {
   "cell_type": "markdown",
   "metadata": {},
   "source": [
    "Write a function called `parse_trips(trips)` that returns a list of the trips with only the following attributes: \n",
    "* `trip_distance`\n",
    "* `pickup_latitude`\n",
    "* `pickup_longitude`"
   ]
  },
  {
   "cell_type": "code",
   "execution_count": 8,
   "metadata": {},
   "outputs": [],
   "source": [
    "def parse_trips(trips):\n",
    "    return list(map(lambda trip: {'trip_distance': trip['trip_distance'], 'pickup_latitude': trip['pickup_latitude'], 'pickup_longitude': trip['pickup_longitude']},trips))"
   ]
  },
  {
   "cell_type": "code",
   "execution_count": 9,
   "metadata": {},
   "outputs": [
    {
     "data": {
      "text/plain": [
       "{'trip_distance': '18.379999999999999',\n",
       " 'pickup_latitude': '40.64499',\n",
       " 'pickup_longitude': '-73.781149999999997'}"
      ]
     },
     "execution_count": 9,
     "metadata": {},
     "output_type": "execute_result"
    }
   ],
   "source": [
    "parsed_trips = parse_trips(trips)\n",
    "parsed_trips and parsed_trips[0]\n",
    "\n",
    "# {'pickup_latitude': '40.64499',\n",
    "#  'pickup_longitude': '-73.78115',\n",
    "#  'trip_distance': '18.38'}"
   ]
  },
  {
   "cell_type": "markdown",
   "metadata": {},
   "source": [
    "Now, there's just one change to make.  If you look at one of the trips, all of the values are strings.  Let's change them to be floats."
   ]
  },
  {
   "cell_type": "code",
   "execution_count": 10,
   "metadata": {},
   "outputs": [],
   "source": [
    "def float_values(trips):    \n",
    "    return list(map(lambda trip: {'trip_distance': float(trip['trip_distance']), 'pickup_latitude': float(trip['pickup_latitude']), 'pickup_longitude': float(trip['pickup_longitude'])},trips))"
   ]
  },
  {
   "cell_type": "code",
   "execution_count": 11,
   "metadata": {},
   "outputs": [],
   "source": [
    "cleaned_trips = float_values(parsed_trips)"
   ]
  },
  {
   "cell_type": "code",
   "execution_count": 12,
   "metadata": {},
   "outputs": [
    {
     "data": {
      "text/plain": [
       "{'trip_distance': 18.38,\n",
       " 'pickup_latitude': 40.64499,\n",
       " 'pickup_longitude': -73.78115}"
      ]
     },
     "execution_count": 12,
     "metadata": {},
     "output_type": "execute_result"
    }
   ],
   "source": [
    "cleaned_trips[0]\n",
    "\n",
    "# {'pickup_latitude': 40.64499,\n",
    "#  'pickup_longitude': -73.78115,\n",
    "#  'trip_distance': 18.38}"
   ]
  },
  {
   "cell_type": "markdown",
   "metadata": {},
   "source": [
    "### Exploring the Data"
   ]
  },
  {
   "cell_type": "markdown",
   "metadata": {},
   "source": [
    "Now that we have paired down our data, let's get a sense of our trip data.  We can use the `folium` Python library to plot a map of Manhattan, and our data.  First we must import `folium`, and then use the `Map` function to pass through a `location`, and `zoom_start`.  If a map isn't showing up below, copy and paste the command `pip install -r requirements.txt` into your terminal to install `folium` then try again."
   ]
  },
  {
   "cell_type": "code",
   "execution_count": 13,
   "metadata": {},
   "outputs": [],
   "source": [
    "import folium\n",
    "manhattan_map = folium.Map(location=[40.7589, -73.9851], zoom_start=11)"
   ]
  },
  {
   "cell_type": "code",
   "execution_count": 14,
   "metadata": {
    "scrolled": true
   },
   "outputs": [
    {
     "data": {
      "text/html": [
       "<div style=\"width:100%;\"><div style=\"position:relative;width:100%;height:0;padding-bottom:60%;\"><iframe src=\"data:text/html;charset=utf-8;base64,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\" style=\"position:absolute;width:100%;height:100%;left:0;top:0;border:none !important;\" allowfullscreen webkitallowfullscreen mozallowfullscreen></iframe></div></div>"
      ],
      "text/plain": [
       "<folium.folium.Map at 0x7fce90d10a58>"
      ]
     },
     "execution_count": 14,
     "metadata": {},
     "output_type": "execute_result"
    }
   ],
   "source": [
    "manhattan_map"
   ]
  },
  {
   "cell_type": "markdown",
   "metadata": {},
   "source": [
    "Ok, now let's see how we could add a dot to mark a specific location.  We'll start with Times Square."
   ]
  },
  {
   "cell_type": "code",
   "execution_count": 15,
   "metadata": {},
   "outputs": [
    {
     "data": {
      "text/plain": [
       "<folium.vector_layers.CircleMarker at 0x7fce641e1cf8>"
      ]
     },
     "execution_count": 15,
     "metadata": {},
     "output_type": "execute_result"
    }
   ],
   "source": [
    "marker = folium.CircleMarker(location = [40.7589, -73.9851], radius=10)\n",
    "marker.add_to(manhattan_map)"
   ]
  },
  {
   "cell_type": "markdown",
   "metadata": {},
   "source": [
    "Above, we first create a marker.  Then we add that circle marker to the `manhattan_map` we created earlier. "
   ]
  },
  {
   "cell_type": "code",
   "execution_count": 16,
   "metadata": {
    "scrolled": false
   },
   "outputs": [
    {
     "data": {
      "text/html": [
       "<div style=\"width:100%;\"><div style=\"position:relative;width:100%;height:0;padding-bottom:60%;\"><iframe src=\"data:text/html;charset=utf-8;base64,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\" style=\"position:absolute;width:100%;height:100%;left:0;top:0;border:none !important;\" allowfullscreen webkitallowfullscreen mozallowfullscreen></iframe></div></div>"
      ],
      "text/plain": [
       "<folium.folium.Map at 0x7fce90d10a58>"
      ]
     },
     "execution_count": 16,
     "metadata": {},
     "output_type": "execute_result"
    }
   ],
   "source": [
    "manhattan_map"
   ]
  },
  {
   "cell_type": "markdown",
   "metadata": {},
   "source": [
    "Do you see that blue dot near Time's Square?  That is our marker.  \n",
    "\n",
    "So now that we can plot one marker on a map, we should have a sense of how we can plot many markers on a map to display our taxi ride data.  We simply plot a map, and then we add a marker for each location of a taxi trip.\n",
    "\n",
    "Now let's write some functions to allow us to plot maps and add markers a little more easily.  "
   ]
  },
  {
   "cell_type": "markdown",
   "metadata": {},
   "source": [
    "#### Writing some map plotting functions"
   ]
  },
  {
   "cell_type": "markdown",
   "metadata": {},
   "source": [
    "As a first step towards this, note that the functions to create both a marker and map each take in a location as two element list, representing the latitude and longitude values.  Take another look:\n",
    "\n",
    "```python\n",
    "marker = folium.CircleMarker(location = [40.7589, -73.9851])\n",
    "manhattan_map = folium.Map(location=[40.7589, -73.9851])\n",
    "```\n",
    "\n",
    "So let's write a function called to create this two element list from a trip.  Write a function called `location` that  takes in a trip as an argument and returns a list where the first element is the latitude and the second is the longitude.  Remember that a location looks like the following:"
   ]
  },
  {
   "cell_type": "code",
   "execution_count": 17,
   "metadata": {},
   "outputs": [
    {
     "data": {
      "text/plain": [
       "{'pickup_latitude': 40.64499,\n",
       " 'pickup_longitude': -73.78115,\n",
       " 'trip_distance': 18.38}"
      ]
     },
     "execution_count": 17,
     "metadata": {},
     "output_type": "execute_result"
    }
   ],
   "source": [
    "first_trip = {'pickup_latitude': 40.64499, 'pickup_longitude': -73.78115,  'trip_distance': 18.38}\n",
    "first_trip"
   ]
  },
  {
   "cell_type": "code",
   "execution_count": 20,
   "metadata": {},
   "outputs": [],
   "source": [
    "def location(trip):\n",
    "    return [trip['pickup_latitude'], trip['pick']]"
   ]
  },
  {
   "cell_type": "code",
   "execution_count": 21,
   "metadata": {},
   "outputs": [
    {
     "data": {
      "text/plain": [
       "[{'pickup_latitude': 40.64499, 'pickup_longitude': -73.78115},\n",
       " {'pickup_latitude': 40.766931, 'pickup_longitude': -73.982098},\n",
       " {'pickup_latitude': 40.77773, 'pickup_longitude': -73.951902},\n",
       " {'pickup_latitude': 40.795678, 'pickup_longitude': -73.971049},\n",
       " {'pickup_latitude': 40.762912, 'pickup_longitude': -73.967782},\n",
       " {'pickup_latitude': 40.731176, 'pickup_longitude': -73.991572},\n",
       " {'pickup_latitude': 40.800219, 'pickup_longitude': -73.968098},\n",
       " {'pickup_latitude': 40.648509, 'pickup_longitude': -73.783508},\n",
       " {'pickup_latitude': 40.721897, 'pickup_longitude': -73.983493},\n",
       " {'pickup_latitude': 40.791566, 'pickup_longitude': -73.972224},\n",
       " {'pickup_latitude': 40.744896, 'pickup_longitude': -73.978619},\n",
       " {'pickup_latitude': 40.721951, 'pickup_longitude': -73.844435},\n",
       " {'pickup_latitude': 40.732382, 'pickup_longitude': -74.001682},\n",
       " {'pickup_latitude': 40.768339, 'pickup_longitude': -73.961478},\n",
       " {'pickup_latitude': 40.775933, 'pickup_longitude': -73.962446},\n",
       " {'pickup_latitude': 40.794829, 'pickup_longitude': -73.971476},\n",
       " {'pickup_latitude': 40.758647, 'pickup_longitude': -73.964878},\n",
       " {'pickup_latitude': 40.713638, 'pickup_longitude': -74.011587},\n",
       " {'pickup_latitude': 40.77403, 'pickup_longitude': -73.874597},\n",
       " {'pickup_latitude': 40.728127, 'pickup_longitude': -73.99887},\n",
       " {'pickup_latitude': 40.759671, 'pickup_longitude': -73.976688},\n",
       " {'pickup_latitude': 40.772651, 'pickup_longitude': -73.967095},\n",
       " {'pickup_latitude': 40.770319, 'pickup_longitude': -73.960222},\n",
       " {'pickup_latitude': 40.720457, 'pickup_longitude': -73.988065},\n",
       " {'pickup_latitude': 40.754789, 'pickup_longitude': -73.973606},\n",
       " {'pickup_latitude': 40.755654, 'pickup_longitude': -73.985846},\n",
       " {'pickup_latitude': 40.741568, 'pickup_longitude': -73.978341},\n",
       " {'pickup_latitude': 40.736907, 'pickup_longitude': -73.98862},\n",
       " {'pickup_latitude': 40.76003, 'pickup_longitude': -73.964842},\n",
       " {'pickup_latitude': 40.721366, 'pickup_longitude': -74.008287},\n",
       " {'pickup_latitude': 40.760147, 'pickup_longitude': -73.97627},\n",
       " {'pickup_latitude': 40.745847, 'pickup_longitude': -74.001817},\n",
       " {'pickup_latitude': 40.753015, 'pickup_longitude': -73.985247},\n",
       " {'pickup_latitude': 40.644657, 'pickup_longitude': -73.782229},\n",
       " {'pickup_latitude': 40.738767, 'pickup_longitude': -74.0086},\n",
       " {'pickup_latitude': 40.773797, 'pickup_longitude': -73.871065},\n",
       " {'pickup_latitude': 40.743411, 'pickup_longitude': -73.97686},\n",
       " {'pickup_latitude': 40.758905, 'pickup_longitude': -73.967897},\n",
       " {'pickup_latitude': 40.733877, 'pickup_longitude': -73.989602},\n",
       " {'pickup_latitude': 40.726162, 'pickup_longitude': -73.983432},\n",
       " {'pickup_latitude': 40.775122, 'pickup_longitude': -73.947765},\n",
       " {'pickup_latitude': 40.75987, 'pickup_longitude': -73.978487},\n",
       " {'pickup_latitude': 40.707087, 'pickup_longitude': -73.94328},\n",
       " {'pickup_latitude': 40.741912, 'pickup_longitude': -74.003578},\n",
       " {'pickup_latitude': 40.769112, 'pickup_longitude': -73.862679},\n",
       " {'pickup_latitude': 40.785807, 'pickup_longitude': -73.976387},\n",
       " {'pickup_latitude': 40.7513, 'pickup_longitude': -73.986852},\n",
       " {'pickup_latitude': 40.733385, 'pickup_longitude': -73.987204},\n",
       " {'pickup_latitude': 40.760257, 'pickup_longitude': -73.976186},\n",
       " {'pickup_latitude': 40.741249, 'pickup_longitude': -74.005201},\n",
       " {'pickup_latitude': 40.759795, 'pickup_longitude': -73.985352},\n",
       " {'pickup_latitude': 40.756636, 'pickup_longitude': -73.9697},\n",
       " {'pickup_latitude': 40.73925, 'pickup_longitude': -74.000759},\n",
       " {'pickup_latitude': 40.751055, 'pickup_longitude': -73.97607},\n",
       " {'pickup_latitude': 40.723584, 'pickup_longitude': -73.995992},\n",
       " {'pickup_latitude': 40.757037, 'pickup_longitude': -73.929485},\n",
       " {'pickup_latitude': 40.743385, 'pickup_longitude': -73.981978},\n",
       " {'pickup_latitude': 40.737486, 'pickup_longitude': -73.978153},\n",
       " {'pickup_latitude': 40.77225, 'pickup_longitude': -73.95285},\n",
       " {'pickup_latitude': 40.732882, 'pickup_longitude': -73.981975},\n",
       " {'pickup_latitude': 40.774567, 'pickup_longitude': -73.988232},\n",
       " {'pickup_latitude': 40.757437, 'pickup_longitude': -73.964735},\n",
       " {'pickup_latitude': 40.789637, 'pickup_longitude': -73.975402},\n",
       " {'pickup_latitude': 40.754317, 'pickup_longitude': -73.992548},\n",
       " {'pickup_latitude': 40.745007, 'pickup_longitude': -73.998627},\n",
       " {'pickup_latitude': 40.734982, 'pickup_longitude': -73.990523},\n",
       " {'pickup_latitude': 0.0, 'pickup_longitude': 0.0},\n",
       " {'pickup_latitude': 40.738617, 'pickup_longitude': -73.989672},\n",
       " {'pickup_latitude': 40.790712, 'pickup_longitude': -73.972809},\n",
       " {'pickup_latitude': 40.750167, 'pickup_longitude': -73.987398},\n",
       " {'pickup_latitude': 40.732141, 'pickup_longitude': -73.98447},\n",
       " {'pickup_latitude': 40.765758, 'pickup_longitude': -73.994847},\n",
       " {'pickup_latitude': 40.792594, 'pickup_longitude': -73.964102},\n",
       " {'pickup_latitude': 40.762908, 'pickup_longitude': -73.969549},\n",
       " {'pickup_latitude': 40.750722, 'pickup_longitude': -73.968447},\n",
       " {'pickup_latitude': 40.769887, 'pickup_longitude': -73.86443},\n",
       " {'pickup_latitude': 40.77247, 'pickup_longitude': -73.982419},\n",
       " {'pickup_latitude': 40.764545, 'pickup_longitude': -73.982668},\n",
       " {'pickup_latitude': 40.641805, 'pickup_longitude': -73.78641},\n",
       " {'pickup_latitude': 40.75224, 'pickup_longitude': -73.97835},\n",
       " {'pickup_latitude': 40.758835, 'pickup_longitude': -73.988555},\n",
       " {'pickup_latitude': 40.722785, 'pickup_longitude': -73.988558},\n",
       " {'pickup_latitude': 40.720338, 'pickup_longitude': -73.993645},\n",
       " {'pickup_latitude': 40.72973, 'pickup_longitude': -73.991628},\n",
       " {'pickup_latitude': 40.760442, 'pickup_longitude': -73.958405},\n",
       " {'pickup_latitude': 40.756227, 'pickup_longitude': -73.98314},\n",
       " {'pickup_latitude': 40.751555, 'pickup_longitude': -73.992905},\n",
       " {'pickup_latitude': 40.71333, 'pickup_longitude': -74.004106},\n",
       " {'pickup_latitude': 40.764762, 'pickup_longitude': -73.991849},\n",
       " {'pickup_latitude': 40.763353, 'pickup_longitude': -73.985259},\n",
       " {'pickup_latitude': 40.775292, 'pickup_longitude': -73.982082},\n",
       " {'pickup_latitude': 40.779515, 'pickup_longitude': -73.984852},\n",
       " {'pickup_latitude': 40.768322, 'pickup_longitude': -73.982234},\n",
       " {'pickup_latitude': 40.766602, 'pickup_longitude': -73.95388},\n",
       " {'pickup_latitude': 40.763684, 'pickup_longitude': -73.981214},\n",
       " {'pickup_latitude': 40.793086, 'pickup_longitude': -73.952092},\n",
       " {'pickup_latitude': 40.773602, 'pickup_longitude': -73.871055},\n",
       " {'pickup_latitude': 40.771909, 'pickup_longitude': -73.959023},\n",
       " {'pickup_latitude': 40.774029, 'pickup_longitude': -73.961478},\n",
       " {'pickup_latitude': 40.74964, 'pickup_longitude': -73.972212},\n",
       " {'pickup_latitude': 40.771542, 'pickup_longitude': -73.959533},\n",
       " {'pickup_latitude': 40.694095, 'pickup_longitude': -73.9839},\n",
       " {'pickup_latitude': 40.756312, 'pickup_longitude': -73.994315},\n",
       " {'pickup_latitude': 40.730282, 'pickup_longitude': -74.006652},\n",
       " {'pickup_latitude': 40.777707, 'pickup_longitude': -73.955068},\n",
       " {'pickup_latitude': 40.726087, 'pickup_longitude': -73.994962},\n",
       " {'pickup_latitude': 40.738385, 'pickup_longitude': -73.999885},\n",
       " {'pickup_latitude': 40.7678, 'pickup_longitude': -73.961987},\n",
       " {'pickup_latitude': 40.742682, 'pickup_longitude': -73.972513},\n",
       " {'pickup_latitude': 40.770602, 'pickup_longitude': -73.982262},\n",
       " {'pickup_latitude': 40.747967, 'pickup_longitude': -73.976727},\n",
       " {'pickup_latitude': 40.742803, 'pickup_longitude': -74.004093},\n",
       " {'pickup_latitude': 40.755521, 'pickup_longitude': -73.97546},\n",
       " {'pickup_latitude': 40.760528, 'pickup_longitude': -74.002757},\n",
       " {'pickup_latitude': 40.740732, 'pickup_longitude': -74.005513},\n",
       " {'pickup_latitude': 40.735497, 'pickup_longitude': -74.00601},\n",
       " {'pickup_latitude': 40.715387, 'pickup_longitude': -74.013518},\n",
       " {'pickup_latitude': 40.721587, 'pickup_longitude': -73.995427},\n",
       " {'pickup_latitude': 40.760057, 'pickup_longitude': -73.983502},\n",
       " {'pickup_latitude': 40.740332, 'pickup_longitude': -73.986289},\n",
       " {'pickup_latitude': 40.7455, 'pickup_longitude': -73.977834},\n",
       " {'pickup_latitude': 40.733125, 'pickup_longitude': -73.987273},\n",
       " {'pickup_latitude': 40.752092, 'pickup_longitude': -73.989949},\n",
       " {'pickup_latitude': 40.72381, 'pickup_longitude': -73.992617},\n",
       " {'pickup_latitude': 40.767446, 'pickup_longitude': -73.984105},\n",
       " {'pickup_latitude': 40.800479, 'pickup_longitude': -73.968083},\n",
       " {'pickup_latitude': 40.717055, 'pickup_longitude': -73.991325},\n",
       " {'pickup_latitude': 40.748863, 'pickup_longitude': -73.992155},\n",
       " {'pickup_latitude': 40.80474, 'pickup_longitude': -73.9478},\n",
       " {'pickup_latitude': 40.762202, 'pickup_longitude': -73.969015},\n",
       " {'pickup_latitude': 0.0, 'pickup_longitude': 0.0},\n",
       " {'pickup_latitude': 40.740407, 'pickup_longitude': -73.987223},\n",
       " {'pickup_latitude': 40.722399, 'pickup_longitude': -73.997097},\n",
       " {'pickup_latitude': 40.747572, 'pickup_longitude': -73.974092},\n",
       " {'pickup_latitude': 40.794651, 'pickup_longitude': -73.972048},\n",
       " {'pickup_latitude': 40.751087, 'pickup_longitude': -73.9716},\n",
       " {'pickup_latitude': 40.719886, 'pickup_longitude': -74.009981},\n",
       " {'pickup_latitude': 40.760887, 'pickup_longitude': -73.98696},\n",
       " {'pickup_latitude': 40.727514, 'pickup_longitude': -74.0073},\n",
       " {'pickup_latitude': 40.774453, 'pickup_longitude': -73.872166},\n",
       " {'pickup_latitude': 40.741907, 'pickup_longitude': -74.003545},\n",
       " {'pickup_latitude': 40.735118, 'pickup_longitude': -73.97979},\n",
       " {'pickup_latitude': 40.773907, 'pickup_longitude': -73.871275},\n",
       " {'pickup_latitude': 40.758937, 'pickup_longitude': -73.994232},\n",
       " {'pickup_latitude': 40.752144, 'pickup_longitude': -73.977199},\n",
       " {'pickup_latitude': 40.745642, 'pickup_longitude': -73.990757},\n",
       " {'pickup_latitude': 40.71879, 'pickup_longitude': -73.98984},\n",
       " {'pickup_latitude': 40.739945, 'pickup_longitude': -74.006124},\n",
       " {'pickup_latitude': 40.777575, 'pickup_longitude': -73.986287},\n",
       " {'pickup_latitude': 40.753632, 'pickup_longitude': -73.988899},\n",
       " {'pickup_latitude': 40.74733, 'pickup_longitude': -73.97703},\n",
       " {'pickup_latitude': 40.769822, 'pickup_longitude': -73.960596},\n",
       " {'pickup_latitude': 40.724658, 'pickup_longitude': -73.997131},\n",
       " {'pickup_latitude': 40.758345, 'pickup_longitude': -73.989398},\n",
       " {'pickup_latitude': 40.764807, 'pickup_longitude': -73.97669},\n",
       " {'pickup_latitude': 40.772847, 'pickup_longitude': -73.962703},\n",
       " {'pickup_latitude': 40.793682, 'pickup_longitude': -73.966972},\n",
       " {'pickup_latitude': 40.760007, 'pickup_longitude': -73.97804},\n",
       " {'pickup_latitude': 40.747252, 'pickup_longitude': -73.888215},\n",
       " {'pickup_latitude': 40.756392, 'pickup_longitude': -73.967522},\n",
       " {'pickup_latitude': 40.763685, 'pickup_longitude': -73.977714},\n",
       " {'pickup_latitude': 40.767068, 'pickup_longitude': -73.982805},\n",
       " {'pickup_latitude': 40.77596, 'pickup_longitude': -73.98728},\n",
       " {'pickup_latitude': 40.739617, 'pickup_longitude': -73.984663},\n",
       " {'pickup_latitude': 40.751953, 'pickup_longitude': -73.976404},\n",
       " {'pickup_latitude': 40.718635, 'pickup_longitude': -74.000952},\n",
       " {'pickup_latitude': 40.7331, 'pickup_longitude': -73.981375},\n",
       " {'pickup_latitude': 40.77463, 'pickup_longitude': -73.96322},\n",
       " {'pickup_latitude': 40.753675, 'pickup_longitude': -73.984942},\n",
       " {'pickup_latitude': 40.763262, 'pickup_longitude': -73.95948},\n",
       " {'pickup_latitude': 40.768895, 'pickup_longitude': -73.958237},\n",
       " {'pickup_latitude': 40.641375, 'pickup_longitude': -73.788935},\n",
       " {'pickup_latitude': 40.745472, 'pickup_longitude': -73.98666},\n",
       " {'pickup_latitude': 40.707562, 'pickup_longitude': -74.004372},\n",
       " {'pickup_latitude': 40.75331, 'pickup_longitude': -73.968992},\n",
       " {'pickup_latitude': 40.769545, 'pickup_longitude': -73.960554},\n",
       " {'pickup_latitude': 40.77411, 'pickup_longitude': -73.874625},\n",
       " {'pickup_latitude': 40.720615, 'pickup_longitude': -74.009875},\n",
       " {'pickup_latitude': 40.76305, 'pickup_longitude': -73.969831},\n",
       " {'pickup_latitude': 40.648605, 'pickup_longitude': -73.78482},\n",
       " {'pickup_latitude': 40.730875, 'pickup_longitude': -74.001527},\n",
       " {'pickup_latitude': 40.763843, 'pickup_longitude': -73.928025},\n",
       " {'pickup_latitude': 40.759867, 'pickup_longitude': -73.97835},\n",
       " {'pickup_latitude': 40.77302, 'pickup_longitude': -73.982},\n",
       " {'pickup_latitude': 40.767437, 'pickup_longitude': -73.980957},\n",
       " {'pickup_latitude': 40.7951, 'pickup_longitude': -73.97166},\n",
       " {'pickup_latitude': 40.78045, 'pickup_longitude': -73.980198},\n",
       " {'pickup_latitude': 40.777608, 'pickup_longitude': -73.956815},\n",
       " {'pickup_latitude': 40.783897, 'pickup_longitude': -73.952306},\n",
       " {'pickup_latitude': 40.738437, 'pickup_longitude': -73.999686},\n",
       " {'pickup_latitude': 40.766227, 'pickup_longitude': -73.980152},\n",
       " {'pickup_latitude': 40.7472, 'pickup_longitude': -74.007947},\n",
       " {'pickup_latitude': 40.729602, 'pickup_longitude': -73.987032},\n",
       " {'pickup_latitude': 40.747295, 'pickup_longitude': -74.000877},\n",
       " {'pickup_latitude': 40.764276, 'pickup_longitude': -73.954283},\n",
       " {'pickup_latitude': 40.717463, 'pickup_longitude': -74.005494},\n",
       " {'pickup_latitude': 40.756667, 'pickup_longitude': -73.967298},\n",
       " {'pickup_latitude': 40.723036, 'pickup_longitude': -73.988783},\n",
       " {'pickup_latitude': 40.742832, 'pickup_longitude': -73.989064},\n",
       " {'pickup_latitude': 40.759825, 'pickup_longitude': -73.970231},\n",
       " {'pickup_latitude': 40.770567, 'pickup_longitude': -73.954641},\n",
       " {'pickup_latitude': 40.743565, 'pickup_longitude': -73.988827},\n",
       " {'pickup_latitude': 40.761372, 'pickup_longitude': -73.982602},\n",
       " {'pickup_latitude': 40.725012, 'pickup_longitude': -73.995492},\n",
       " {'pickup_latitude': 40.751251, 'pickup_longitude': -73.975745},\n",
       " {'pickup_latitude': 40.742522, 'pickup_longitude': -73.993292},\n",
       " {'pickup_latitude': 40.762107, 'pickup_longitude': -73.98479},\n",
       " {'pickup_latitude': 40.787171, 'pickup_longitude': -73.953967},\n",
       " {'pickup_latitude': 40.739887, 'pickup_longitude': -74.004942},\n",
       " {'pickup_latitude': 40.775297, 'pickup_longitude': -73.982005},\n",
       " {'pickup_latitude': 40.743232, 'pickup_longitude': -73.983751},\n",
       " {'pickup_latitude': 40.757386, 'pickup_longitude': -73.987253},\n",
       " {'pickup_latitude': 40.749027, 'pickup_longitude': -73.98395},\n",
       " {'pickup_latitude': 40.752385, 'pickup_longitude': -73.978314},\n",
       " {'pickup_latitude': 40.721988, 'pickup_longitude': -73.986383},\n",
       " {'pickup_latitude': 40.742422, 'pickup_longitude': -73.991082},\n",
       " {'pickup_latitude': 40.735396, 'pickup_longitude': -73.993911},\n",
       " {'pickup_latitude': 40.749873, 'pickup_longitude': -73.991593},\n",
       " {'pickup_latitude': 40.779447, 'pickup_longitude': -73.962047},\n",
       " {'pickup_latitude': 40.730843, 'pickup_longitude': -74.00677},\n",
       " {'pickup_latitude': 40.750116, 'pickup_longitude': -73.987503},\n",
       " {'pickup_latitude': 40.701734, 'pickup_longitude': -74.011263},\n",
       " {'pickup_latitude': 40.72635, 'pickup_longitude': -73.977049},\n",
       " {'pickup_latitude': 40.688702, 'pickup_longitude': -73.98921},\n",
       " {'pickup_latitude': 40.771385, 'pickup_longitude': -73.96467},\n",
       " {'pickup_latitude': 40.715884, 'pickup_longitude': -73.959979},\n",
       " {'pickup_latitude': 40.790046, 'pickup_longitude': -73.975066},\n",
       " {'pickup_latitude': 40.76418, 'pickup_longitude': -73.97822},\n",
       " {'pickup_latitude': 40.76041, 'pickup_longitude': -73.987652},\n",
       " {'pickup_latitude': 40.745647, 'pickup_longitude': -73.978275},\n",
       " {'pickup_latitude': 40.793261, 'pickup_longitude': -73.940565},\n",
       " {'pickup_latitude': 40.762111, 'pickup_longitude': -73.968438},\n",
       " {'pickup_latitude': 40.74733, 'pickup_longitude': -73.9969},\n",
       " {'pickup_latitude': 40.74886, 'pickup_longitude': -73.988666},\n",
       " {'pickup_latitude': 40.730145, 'pickup_longitude': -73.986395},\n",
       " {'pickup_latitude': 40.75318, 'pickup_longitude': -73.973152},\n",
       " {'pickup_latitude': 40.829557, 'pickup_longitude': -73.837699},\n",
       " {'pickup_latitude': 40.743102, 'pickup_longitude': -73.973988},\n",
       " {'pickup_latitude': 40.750445, 'pickup_longitude': -73.98674},\n",
       " {'pickup_latitude': 40.743475, 'pickup_longitude': -73.923155},\n",
       " {'pickup_latitude': 40.762752, 'pickup_longitude': -73.993035},\n",
       " {'pickup_latitude': 40.765577, 'pickup_longitude': -73.979713},\n",
       " {'pickup_latitude': 40.750027, 'pickup_longitude': -73.89876},\n",
       " {'pickup_latitude': 40.751947, 'pickup_longitude': -73.986142},\n",
       " {'pickup_latitude': 40.71972, 'pickup_longitude': -74.008841},\n",
       " {'pickup_latitude': 40.78079, 'pickup_longitude': -73.946522},\n",
       " {'pickup_latitude': 40.751607, 'pickup_longitude': -73.993449},\n",
       " {'pickup_latitude': 40.745595, 'pickup_longitude': -73.988398},\n",
       " {'pickup_latitude': 40.72245, 'pickup_longitude': -73.98729},\n",
       " {'pickup_latitude': 40.702557, 'pickup_longitude': -73.93467},\n",
       " {'pickup_latitude': 40.734659, 'pickup_longitude': -73.98004},\n",
       " {'pickup_latitude': 40.764774, 'pickup_longitude': -73.992049},\n",
       " {'pickup_latitude': 40.723516, 'pickup_longitude': -73.985065},\n",
       " {'pickup_latitude': 40.781072, 'pickup_longitude': -73.983538},\n",
       " {'pickup_latitude': 40.793005, 'pickup_longitude': -73.973026},\n",
       " {'pickup_latitude': 40.721025, 'pickup_longitude': -73.993857},\n",
       " {'pickup_latitude': 40.768497, 'pickup_longitude': -73.899785},\n",
       " {'pickup_latitude': 40.80726, 'pickup_longitude': -73.954179},\n",
       " {'pickup_latitude': 40.773715, 'pickup_longitude': -73.963908},\n",
       " {'pickup_latitude': 40.780082, 'pickup_longitude': -73.956843},\n",
       " {'pickup_latitude': 40.741824, 'pickup_longitude': -73.982933},\n",
       " {'pickup_latitude': 40.742112, 'pickup_longitude': -74.004672},\n",
       " {'pickup_latitude': 40.725925, 'pickup_longitude': -74.007585},\n",
       " {'pickup_latitude': 40.645718, 'pickup_longitude': -73.776765},\n",
       " {'pickup_latitude': 40.718398, 'pickup_longitude': -73.994967},\n",
       " {'pickup_latitude': 0.0, 'pickup_longitude': 0.0},\n",
       " {'pickup_latitude': 40.736343, 'pickup_longitude': -73.99289},\n",
       " {'pickup_latitude': 40.753827, 'pickup_longitude': -73.994472},\n",
       " {'pickup_latitude': 40.750693, 'pickup_longitude': -73.971834},\n",
       " {'pickup_latitude': 40.745964, 'pickup_longitude': -73.991152},\n",
       " {'pickup_latitude': 40.740482, 'pickup_longitude': -74.004042},\n",
       " {'pickup_latitude': 0.0, 'pickup_longitude': 0.0},\n",
       " {'pickup_latitude': 40.803842, 'pickup_longitude': -73.966812},\n",
       " {'pickup_latitude': 40.797632, 'pickup_longitude': -73.969822},\n",
       " {'pickup_latitude': 40.645322, 'pickup_longitude': -73.776652},\n",
       " {'pickup_latitude': 40.749207, 'pickup_longitude': -74.003233},\n",
       " {'pickup_latitude': 40.765548, 'pickup_longitude': -73.983683},\n",
       " {'pickup_latitude': 40.760289, 'pickup_longitude': -73.931531},\n",
       " {'pickup_latitude': 40.778967, 'pickup_longitude': -73.981767},\n",
       " {'pickup_latitude': 40.7582, 'pickup_longitude': -73.973285},\n",
       " {'pickup_latitude': 40.730709, 'pickup_longitude': -73.990504},\n",
       " {'pickup_latitude': 40.7456, 'pickup_longitude': -73.97814},\n",
       " {'pickup_latitude': 40.719471, 'pickup_longitude': -73.999779},\n",
       " {'pickup_latitude': 40.75619, 'pickup_longitude': -73.974282},\n",
       " {'pickup_latitude': 40.639542, 'pickup_longitude': -73.967915},\n",
       " {'pickup_latitude': 40.78366, 'pickup_longitude': -73.97427},\n",
       " {'pickup_latitude': 40.7464, 'pickup_longitude': -73.97771},\n",
       " {'pickup_latitude': 40.727475, 'pickup_longitude': -73.98533},\n",
       " {'pickup_latitude': 40.735015, 'pickup_longitude': -74.006024},\n",
       " {'pickup_latitude': 0.0, 'pickup_longitude': 0.0},\n",
       " {'pickup_latitude': 0.0, 'pickup_longitude': 0.0},\n",
       " {'pickup_latitude': 40.754176, 'pickup_longitude': -74.04442},\n",
       " {'pickup_latitude': 40.740112, 'pickup_longitude': -73.994987},\n",
       " {'pickup_latitude': 40.719972, 'pickup_longitude': -73.987553},\n",
       " {'pickup_latitude': 40.70517, 'pickup_longitude': -74.006987},\n",
       " {'pickup_latitude': 40.789142, 'pickup_longitude': -73.970472},\n",
       " {'pickup_latitude': 40.749115, 'pickup_longitude': -73.984182},\n",
       " {'pickup_latitude': 40.76443, 'pickup_longitude': -73.992037},\n",
       " {'pickup_latitude': 40.756477, 'pickup_longitude': -73.990472},\n",
       " {'pickup_latitude': 40.746142, 'pickup_longitude': -73.984852},\n",
       " {'pickup_latitude': 40.747856, 'pickup_longitude': -73.989088},\n",
       " {'pickup_latitude': 40.772615, 'pickup_longitude': -73.964789},\n",
       " {'pickup_latitude': 40.761912, 'pickup_longitude': -73.975275},\n",
       " {'pickup_latitude': 40.740991, 'pickup_longitude': -74.005581},\n",
       " {'pickup_latitude': 40.764115, 'pickup_longitude': -73.97707},\n",
       " {'pickup_latitude': 40.728808, 'pickup_longitude': -73.987538},\n",
       " {'pickup_latitude': 40.725511, 'pickup_longitude': -73.991953},\n",
       " {'pickup_latitude': 40.768967, 'pickup_longitude': -73.954822},\n",
       " {'pickup_latitude': 40.75652, 'pickup_longitude': -73.973926},\n",
       " {'pickup_latitude': 40.751217, 'pickup_longitude': -73.970895},\n",
       " {'pickup_latitude': 40.779557, 'pickup_longitude': -73.977187},\n",
       " {'pickup_latitude': 40.771472, 'pickup_longitude': -73.8755},\n",
       " {'pickup_latitude': 40.73832, 'pickup_longitude': -73.9918},\n",
       " {'pickup_latitude': 40.643172, 'pickup_longitude': -73.789035},\n",
       " {'pickup_latitude': 40.769387, 'pickup_longitude': -73.953623},\n",
       " {'pickup_latitude': 40.731752, 'pickup_longitude': -74.000932},\n",
       " {'pickup_latitude': 40.745874, 'pickup_longitude': -73.991095},\n",
       " {'pickup_latitude': 40.767867, 'pickup_longitude': -73.963893},\n",
       " {'pickup_latitude': 40.766245, 'pickup_longitude': -73.98354},\n",
       " {'pickup_latitude': 40.753485, 'pickup_longitude': -73.97311},\n",
       " {'pickup_latitude': 40.726597, 'pickup_longitude': -73.986165},\n",
       " {'pickup_latitude': 40.7446, 'pickup_longitude': -73.985232},\n",
       " {'pickup_latitude': 40.756806, 'pickup_longitude': -73.969385},\n",
       " {'pickup_latitude': 40.783447, 'pickup_longitude': -73.947283},\n",
       " {'pickup_latitude': 40.758985, 'pickup_longitude': -73.989435},\n",
       " {'pickup_latitude': 40.645316, 'pickup_longitude': -73.776808},\n",
       " {'pickup_latitude': 40.762868, 'pickup_longitude': -73.983233},\n",
       " {'pickup_latitude': 40.761322, 'pickup_longitude': -73.975755},\n",
       " {'pickup_latitude': 40.771097, 'pickup_longitude': -73.865913},\n",
       " {'pickup_latitude': 40.760195, 'pickup_longitude': -73.967307},\n",
       " {'pickup_latitude': 40.73286, 'pickup_longitude': -74.00007},\n",
       " {'pickup_latitude': 40.75952, 'pickup_longitude': -73.985488},\n",
       " {'pickup_latitude': 40.821517, 'pickup_longitude': -73.954177},\n",
       " {'pickup_latitude': 40.734922, 'pickup_longitude': -73.990548},\n",
       " {'pickup_latitude': 40.757594, 'pickup_longitude': -73.989531},\n",
       " {'pickup_latitude': 40.748042, 'pickup_longitude': -73.880385},\n",
       " {'pickup_latitude': 40.74957, 'pickup_longitude': -73.992772},\n",
       " {'pickup_latitude': 40.759663, 'pickup_longitude': -73.981141},\n",
       " {'pickup_latitude': 40.756397, 'pickup_longitude': -73.966882},\n",
       " {'pickup_latitude': 40.68078, 'pickup_longitude': -73.967735},\n",
       " {'pickup_latitude': 40.749994, 'pickup_longitude': -73.994031},\n",
       " {'pickup_latitude': 40.801351, 'pickup_longitude': -73.961519},\n",
       " {'pickup_latitude': 40.766223, 'pickup_longitude': -73.981952},\n",
       " {'pickup_latitude': 40.740045, 'pickup_longitude': -73.982178},\n",
       " {'pickup_latitude': 40.801657, 'pickup_longitude': -73.934415},\n",
       " {'pickup_latitude': 40.738722, 'pickup_longitude': -73.987027},\n",
       " {'pickup_latitude': 40.742172, 'pickup_longitude': -74.00809},\n",
       " {'pickup_latitude': 40.775633, 'pickup_longitude': -73.98233},\n",
       " {'pickup_latitude': 40.792377, 'pickup_longitude': -73.96788},\n",
       " {'pickup_latitude': 40.659956, 'pickup_longitude': -73.99842},\n",
       " {'pickup_latitude': 40.7655, 'pickup_longitude': -73.97585},\n",
       " {'pickup_latitude': 40.737997, 'pickup_longitude': -73.992069},\n",
       " {'pickup_latitude': 40.711467, 'pickup_longitude': -73.945825},\n",
       " {'pickup_latitude': 0.0, 'pickup_longitude': 0.0},\n",
       " {'pickup_latitude': 40.710822, 'pickup_longitude': -74.015592},\n",
       " {'pickup_latitude': 40.763597, 'pickup_longitude': -73.97968},\n",
       " {'pickup_latitude': 40.744277, 'pickup_longitude': -73.973007},\n",
       " {'pickup_latitude': 40.774152, 'pickup_longitude': -73.873092},\n",
       " {'pickup_latitude': 40.773736, 'pickup_longitude': -73.959905},\n",
       " {'pickup_latitude': 40.740018, 'pickup_longitude': -74.005399},\n",
       " {'pickup_latitude': 40.750094, 'pickup_longitude': -73.979116},\n",
       " {'pickup_latitude': 40.741317, 'pickup_longitude': -73.983402},\n",
       " {'pickup_latitude': 40.75885, 'pickup_longitude': -73.965817},\n",
       " {'pickup_latitude': 40.687077, 'pickup_longitude': -73.990203},\n",
       " {'pickup_latitude': 40.76705, 'pickup_longitude': -73.979222},\n",
       " {'pickup_latitude': 40.72257, 'pickup_longitude': -73.997073},\n",
       " {'pickup_latitude': 40.77958, 'pickup_longitude': -73.957862},\n",
       " {'pickup_latitude': 40.7385, 'pickup_longitude': -73.9853},\n",
       " {'pickup_latitude': 40.770377, 'pickup_longitude': -73.982127},\n",
       " {'pickup_latitude': 40.75906, 'pickup_longitude': -73.983681},\n",
       " {'pickup_latitude': 40.689827, 'pickup_longitude': -73.99235},\n",
       " {'pickup_latitude': 40.766367, 'pickup_longitude': -73.952442},\n",
       " {'pickup_latitude': 40.717302, 'pickup_longitude': -73.99898},\n",
       " {'pickup_latitude': 40.642817, 'pickup_longitude': -73.788912},\n",
       " {'pickup_latitude': 40.766804, 'pickup_longitude': -73.969071},\n",
       " {'pickup_latitude': 40.762317, 'pickup_longitude': -73.98593},\n",
       " {'pickup_latitude': 40.734099, 'pickup_longitude': -73.999288},\n",
       " {'pickup_latitude': 40.770737, 'pickup_longitude': -73.957142},\n",
       " {'pickup_latitude': 40.724919, 'pickup_longitude': -73.998967},\n",
       " {'pickup_latitude': 40.729687, 'pickup_longitude': -73.998358},\n",
       " {'pickup_latitude': 40.744083, 'pickup_longitude': -73.985687},\n",
       " {'pickup_latitude': 40.726413, 'pickup_longitude': -73.977196},\n",
       " {'pickup_latitude': 40.794009, 'pickup_longitude': -73.966721},\n",
       " {'pickup_latitude': 40.74589, 'pickup_longitude': -73.994388},\n",
       " {'pickup_latitude': 40.75284, 'pickup_longitude': -73.989232},\n",
       " {'pickup_latitude': 40.777652, 'pickup_longitude': -73.959298},\n",
       " {'pickup_latitude': 40.726935, 'pickup_longitude': -73.991668},\n",
       " {'pickup_latitude': 40.74969, 'pickup_longitude': -73.97751},\n",
       " {'pickup_latitude': 40.709355, 'pickup_longitude': -74.016717},\n",
       " {'pickup_latitude': 40.750099, 'pickup_longitude': -73.99125},\n",
       " {'pickup_latitude': 40.777513, 'pickup_longitude': -73.948801},\n",
       " {'pickup_latitude': 40.64534, 'pickup_longitude': -73.77668},\n",
       " {'pickup_latitude': 40.794572, 'pickup_longitude': -73.97205},\n",
       " {'pickup_latitude': 40.76084, 'pickup_longitude': -73.971439},\n",
       " {'pickup_latitude': 40.758902, 'pickup_longitude': -73.979668},\n",
       " {'pickup_latitude': 40.756082, 'pickup_longitude': -73.976395},\n",
       " {'pickup_latitude': 40.746631, 'pickup_longitude': -73.9819},\n",
       " {'pickup_latitude': 40.787612, 'pickup_longitude': -73.977033},\n",
       " {'pickup_latitude': 40.748875, 'pickup_longitude': -73.982345},\n",
       " {'pickup_latitude': 0.0, 'pickup_longitude': 0.0},\n",
       " {'pickup_latitude': 40.734924, 'pickup_longitude': -73.989973},\n",
       " {'pickup_latitude': 40.755682, 'pickup_longitude': -73.979288},\n",
       " {'pickup_latitude': 40.757465, 'pickup_longitude': -73.963752},\n",
       " {'pickup_latitude': 40.751163, 'pickup_longitude': -73.994115},\n",
       " {'pickup_latitude': 40.754707, 'pickup_longitude': -73.986173},\n",
       " {'pickup_latitude': 40.768512, 'pickup_longitude': -73.965495},\n",
       " {'pickup_latitude': 40.770792, 'pickup_longitude': -73.961915},\n",
       " {'pickup_latitude': 40.780672, 'pickup_longitude': -73.952653},\n",
       " {'pickup_latitude': 40.733568, 'pickup_longitude': -73.995547},\n",
       " {'pickup_latitude': 40.74998, 'pickup_longitude': -73.99179},\n",
       " {'pickup_latitude': 40.72235, 'pickup_longitude': -73.986202},\n",
       " {'pickup_latitude': 40.77081, 'pickup_longitude': -73.956903},\n",
       " {'pickup_latitude': 40.771152, 'pickup_longitude': -73.95672},\n",
       " {'pickup_latitude': 40.790777, 'pickup_longitude': -73.973482},\n",
       " {'pickup_latitude': 40.716232, 'pickup_longitude': -74.013591},\n",
       " {'pickup_latitude': 40.74277, 'pickup_longitude': -73.984523},\n",
       " {'pickup_latitude': 40.726791, 'pickup_longitude': -73.999842},\n",
       " {'pickup_latitude': 40.774935, 'pickup_longitude': -73.963839},\n",
       " {'pickup_latitude': 40.752832, 'pickup_longitude': -73.979423},\n",
       " {'pickup_latitude': 40.732783, 'pickup_longitude': -73.985831},\n",
       " {'pickup_latitude': 40.75176, 'pickup_longitude': -73.986138},\n",
       " {'pickup_latitude': 40.772827, 'pickup_longitude': -73.981567},\n",
       " {'pickup_latitude': 40.786305, 'pickup_longitude': -73.977741},\n",
       " {'pickup_latitude': 40.71986, 'pickup_longitude': -74.01021},\n",
       " {'pickup_latitude': 40.748193, 'pickup_longitude': -73.984715},\n",
       " {'pickup_latitude': 40.734642, 'pickup_longitude': -73.992515},\n",
       " {'pickup_latitude': 40.758495, 'pickup_longitude': -73.98159},\n",
       " {'pickup_latitude': 40.750711, 'pickup_longitude': -73.991913},\n",
       " {'pickup_latitude': 40.751085, 'pickup_longitude': -73.990382},\n",
       " {'pickup_latitude': 40.696647, 'pickup_longitude': -73.99152},\n",
       " {'pickup_latitude': 40.766092, 'pickup_longitude': -73.982632},\n",
       " {'pickup_latitude': 40.77293, 'pickup_longitude': -73.88525},\n",
       " {'pickup_latitude': 40.644032, 'pickup_longitude': -73.790294},\n",
       " {'pickup_latitude': 40.758261, 'pickup_longitude': -73.970859},\n",
       " {'pickup_latitude': 40.778392, 'pickup_longitude': -73.985658},\n",
       " {'pickup_latitude': 40.758372, 'pickup_longitude': -73.963047},\n",
       " {'pickup_latitude': 40.752788, 'pickup_longitude': -73.975128},\n",
       " {'pickup_latitude': 40.741972, 'pickup_longitude': -74.007642},\n",
       " {'pickup_latitude': 40.764972, 'pickup_longitude': -73.977855},\n",
       " {'pickup_latitude': 40.742227, 'pickup_longitude': -73.982747},\n",
       " {'pickup_latitude': 40.743594, 'pickup_longitude': -73.979374},\n",
       " {'pickup_latitude': 40.774852, 'pickup_longitude': -73.961215},\n",
       " {'pickup_latitude': 40.786657, 'pickup_longitude': -73.975743},\n",
       " {'pickup_latitude': 40.731236, 'pickup_longitude': -74.001455},\n",
       " {'pickup_latitude': 40.724197, 'pickup_longitude': -73.978797},\n",
       " {'pickup_latitude': 40.735687, 'pickup_longitude': -74.005065},\n",
       " {'pickup_latitude': 40.724007, 'pickup_longitude': -73.978812},\n",
       " {'pickup_latitude': 40.751962, 'pickup_longitude': -73.993918},\n",
       " {'pickup_latitude': 40.744422, 'pickup_longitude': -73.976127},\n",
       " {'pickup_latitude': 40.76944, 'pickup_longitude': -73.952025},\n",
       " {'pickup_latitude': 40.755972, 'pickup_longitude': -73.972347},\n",
       " {'pickup_latitude': 40.782482, 'pickup_longitude': -73.957812},\n",
       " {'pickup_latitude': 40.739142, 'pickup_longitude': -74.00807},\n",
       " {'pickup_latitude': 40.752412, 'pickup_longitude': -73.977267},\n",
       " {'pickup_latitude': 0.0, 'pickup_longitude': 0.0},\n",
       " {'pickup_latitude': 40.771168, 'pickup_longitude': -73.963929},\n",
       " {'pickup_latitude': 40.756005, 'pickup_longitude': -73.973294},\n",
       " {'pickup_latitude': 40.778415, 'pickup_longitude': -73.945392},\n",
       " {'pickup_latitude': 40.766653, 'pickup_longitude': -73.957138},\n",
       " {'pickup_latitude': 40.746032, 'pickup_longitude': -73.97976},\n",
       " {'pickup_latitude': 40.763352, 'pickup_longitude': -73.996385},\n",
       " {'pickup_latitude': 40.755782, 'pickup_longitude': -73.983322},\n",
       " {'pickup_latitude': 40.769837, 'pickup_longitude': -73.982025},\n",
       " {'pickup_latitude': 40.773009, 'pickup_longitude': -73.885269},\n",
       " {'pickup_latitude': 40.799458, 'pickup_longitude': -73.968139},\n",
       " {'pickup_latitude': 40.777555, 'pickup_longitude': -73.961237},\n",
       " {'pickup_latitude': 40.80409, 'pickup_longitude': -73.966942},\n",
       " {'pickup_latitude': 40.713948, 'pickup_longitude': -73.951672},\n",
       " {'pickup_latitude': 40.741453, 'pickup_longitude': -74.006441},\n",
       " {'pickup_latitude': 40.79858, 'pickup_longitude': -73.969018},\n",
       " {'pickup_latitude': 40.721519, 'pickup_longitude': -73.956165},\n",
       " {'pickup_latitude': 40.744341, 'pickup_longitude': -74.006568},\n",
       " {'pickup_latitude': 40.750106, 'pickup_longitude': -73.991395},\n",
       " {'pickup_latitude': 40.815817, 'pickup_longitude': -73.958397},\n",
       " {'pickup_latitude': 40.772255, 'pickup_longitude': -73.982507},\n",
       " {'pickup_latitude': 40.756412, 'pickup_longitude': -73.967363},\n",
       " {'pickup_latitude': 40.729556, 'pickup_longitude': -73.99331},\n",
       " {'pickup_latitude': 40.774627, 'pickup_longitude': -73.957909},\n",
       " {'pickup_latitude': 40.744418, 'pickup_longitude': -73.983521},\n",
       " {'pickup_latitude': 40.795953, 'pickup_longitude': -73.970739},\n",
       " {'pickup_latitude': 40.735785, 'pickup_longitude': -74.006038},\n",
       " {'pickup_latitude': 40.741275, 'pickup_longitude': -73.981362},\n",
       " {'pickup_latitude': 40.759037, 'pickup_longitude': -73.968693},\n",
       " {'pickup_latitude': 40.7642, 'pickup_longitude': -73.954807},\n",
       " {'pickup_latitude': 40.779383, 'pickup_longitude': -73.95955},\n",
       " {'pickup_latitude': 40.72638, 'pickup_longitude': -74.002},\n",
       " {'pickup_latitude': 40.716736, 'pickup_longitude': -73.997696},\n",
       " {'pickup_latitude': 40.751872, 'pickup_longitude': -73.987503},\n",
       " {'pickup_latitude': 40.774462, 'pickup_longitude': -73.988552},\n",
       " {'pickup_latitude': 40.748208, 'pickup_longitude': -74.005309},\n",
       " {'pickup_latitude': 40.756054, 'pickup_longitude': -74.005378},\n",
       " {'pickup_latitude': 40.759193, 'pickup_longitude': -73.97723},\n",
       " {'pickup_latitude': 40.7439, 'pickup_longitude': -73.999577},\n",
       " {'pickup_latitude': 40.712612, 'pickup_longitude': -73.95882},\n",
       " {'pickup_latitude': 40.751285, 'pickup_longitude': -73.9712},\n",
       " {'pickup_latitude': 40.75262, 'pickup_longitude': -73.98631},\n",
       " {'pickup_latitude': 40.728885, 'pickup_longitude': -74.000534},\n",
       " {'pickup_latitude': 40.753302, 'pickup_longitude': -73.979382},\n",
       " {'pickup_latitude': 40.759795, 'pickup_longitude': -73.968202},\n",
       " {'pickup_latitude': 40.727368, 'pickup_longitude': -74.0062},\n",
       " {'pickup_latitude': 40.7595, 'pickup_longitude': -73.96904},\n",
       " {'pickup_latitude': 40.751837, 'pickup_longitude': -73.970865},\n",
       " {'pickup_latitude': 40.742032, 'pickup_longitude': -73.97492},\n",
       " {'pickup_latitude': 40.755123, 'pickup_longitude': -73.97283},\n",
       " {'pickup_latitude': 40.726783, 'pickup_longitude': -73.980283},\n",
       " {'pickup_latitude': 40.768924, 'pickup_longitude': -73.952227},\n",
       " {'pickup_latitude': 40.748232, 'pickup_longitude': -73.988848},\n",
       " {'pickup_latitude': 40.70205, 'pickup_longitude': -74.011423},\n",
       " {'pickup_latitude': 40.763197, 'pickup_longitude': -73.989376},\n",
       " {'pickup_latitude': 40.720794, 'pickup_longitude': -74.008509},\n",
       " {'pickup_latitude': 40.760644, 'pickup_longitude': -73.984531},\n",
       " {'pickup_latitude': 40.743367, 'pickup_longitude': -73.98406},\n",
       " {'pickup_latitude': 40.749792, 'pickup_longitude': -74.00267},\n",
       " {'pickup_latitude': 40.754807, 'pickup_longitude': -73.97379},\n",
       " {'pickup_latitude': 40.64483, 'pickup_longitude': -73.781578},\n",
       " {'pickup_latitude': 40.767759, 'pickup_longitude': -73.989694},\n",
       " {'pickup_latitude': 40.762243, 'pickup_longitude': -73.96815},\n",
       " {'pickup_latitude': 40.730735, 'pickup_longitude': -73.992072},\n",
       " {'pickup_latitude': 40.738672, 'pickup_longitude': -73.999515},\n",
       " {'pickup_latitude': 40.774752, 'pickup_longitude': -73.980465},\n",
       " {'pickup_latitude': 40.777867, 'pickup_longitude': -73.945725},\n",
       " {'pickup_latitude': 40.742502, 'pickup_longitude': -74.00424},\n",
       " {'pickup_latitude': 40.76532, 'pickup_longitude': -73.97557},\n",
       " {'pickup_latitude': 40.722856, 'pickup_longitude': -73.979826},\n",
       " {'pickup_latitude': 40.777252, 'pickup_longitude': -73.982625},\n",
       " {'pickup_latitude': 40.740912, 'pickup_longitude': -73.985925},\n",
       " {'pickup_latitude': 40.798562, 'pickup_longitude': -73.969052},\n",
       " {'pickup_latitude': 40.71422, 'pickup_longitude': -74.013452},\n",
       " {'pickup_latitude': 40.748567, 'pickup_longitude': -73.972642},\n",
       " {'pickup_latitude': 40.757222, 'pickup_longitude': -73.985682},\n",
       " {'pickup_latitude': 40.751325, 'pickup_longitude': -73.993982},\n",
       " {'pickup_latitude': 40.729357, 'pickup_longitude': -73.991875},\n",
       " {'pickup_latitude': 40.767302, 'pickup_longitude': -73.9646},\n",
       " {'pickup_latitude': 40.793391, 'pickup_longitude': -73.967215},\n",
       " {'pickup_latitude': 40.642527, 'pickup_longitude': -73.791427},\n",
       " {'pickup_latitude': 40.758769, 'pickup_longitude': -73.992404},\n",
       " {'pickup_latitude': 40.72184, 'pickup_longitude': -73.993307},\n",
       " {'pickup_latitude': 40.721116, 'pickup_longitude': -74.004308},\n",
       " {'pickup_latitude': 40.75085, 'pickup_longitude': -74.00562},\n",
       " {'pickup_latitude': 40.701535, 'pickup_longitude': -74.012503},\n",
       " {'pickup_latitude': 40.76495, 'pickup_longitude': -73.968502},\n",
       " {'pickup_latitude': 0.0, 'pickup_longitude': 0.0},\n",
       " {'pickup_latitude': 40.74892, 'pickup_longitude': -73.97797},\n",
       " {'pickup_latitude': 40.77908, 'pickup_longitude': -73.98498},\n",
       " {'pickup_latitude': 40.646587, 'pickup_longitude': -73.78582},\n",
       " {'pickup_latitude': 40.739812, 'pickup_longitude': -74.00549},\n",
       " {'pickup_latitude': 40.728841, 'pickup_longitude': -73.99404},\n",
       " {'pickup_latitude': 40.752327, 'pickup_longitude': -73.97917},\n",
       " {'pickup_latitude': 40.732893, 'pickup_longitude': -73.974918},\n",
       " {'pickup_latitude': 40.769041, 'pickup_longitude': -73.988708},\n",
       " {'pickup_latitude': 40.782595, 'pickup_longitude': -73.953385},\n",
       " {'pickup_latitude': 40.744757, 'pickup_longitude': -73.984962},\n",
       " {'pickup_latitude': 40.752422, 'pickup_longitude': -73.98375},\n",
       " {'pickup_latitude': 40.760963, 'pickup_longitude': -73.975273},\n",
       " {'pickup_latitude': 40.68118, 'pickup_longitude': -73.980602},\n",
       " {'pickup_latitude': 40.758312, 'pickup_longitude': -73.97752},\n",
       " {'pickup_latitude': 40.71897, 'pickup_longitude': -73.997061},\n",
       " {'pickup_latitude': 40.723912, 'pickup_longitude': -73.991242},\n",
       " {'pickup_latitude': 40.756415, 'pickup_longitude': -73.975227},\n",
       " {'pickup_latitude': 40.751115, 'pickup_longitude': -73.994153},\n",
       " {'pickup_latitude': 40.785935, 'pickup_longitude': -73.979897},\n",
       " {'pickup_latitude': 40.760434, 'pickup_longitude': -74.002849},\n",
       " {'pickup_latitude': 40.71597, 'pickup_longitude': -74.015138},\n",
       " {'pickup_latitude': 40.76767, 'pickup_longitude': -73.96166},\n",
       " {'pickup_latitude': 40.771907, 'pickup_longitude': -73.95626},\n",
       " {'pickup_latitude': 40.778537, 'pickup_longitude': -73.981967},\n",
       " {'pickup_latitude': 40.73111, 'pickup_longitude': -74.00658},\n",
       " {'pickup_latitude': 40.755756, 'pickup_longitude': -73.884413},\n",
       " {'pickup_latitude': 40.791595, 'pickup_longitude': -73.968651},\n",
       " {'pickup_latitude': 40.750117, 'pickup_longitude': -74.002532},\n",
       " {'pickup_latitude': 40.71242, 'pickup_longitude': -74.00953},\n",
       " {'pickup_latitude': 40.761311, 'pickup_longitude': -73.972672},\n",
       " {'pickup_latitude': 40.71592, 'pickup_longitude': -74.015208},\n",
       " {'pickup_latitude': 40.712097, 'pickup_longitude': -73.94075},\n",
       " {'pickup_latitude': 40.729574, 'pickup_longitude': -73.991874},\n",
       " {'pickup_latitude': 40.75377, 'pickup_longitude': -73.969407},\n",
       " {'pickup_latitude': 40.72269, 'pickup_longitude': -73.9992},\n",
       " {'pickup_latitude': 40.722982, 'pickup_longitude': -73.982842},\n",
       " {'pickup_latitude': 40.773595, 'pickup_longitude': -73.870591},\n",
       " {'pickup_latitude': 40.767875, 'pickup_longitude': -73.98311},\n",
       " {'pickup_latitude': 40.768197, 'pickup_longitude': -73.952871},\n",
       " {'pickup_latitude': 40.745547, 'pickup_longitude': -73.998795},\n",
       " {'pickup_latitude': 40.768712, 'pickup_longitude': -73.963437},\n",
       " {'pickup_latitude': 40.757889, 'pickup_longitude': -73.968702},\n",
       " {'pickup_latitude': 40.72067, 'pickup_longitude': -74.009983},\n",
       " {'pickup_latitude': 40.763362, 'pickup_longitude': -73.971497},\n",
       " {'pickup_latitude': 40.75185, 'pickup_longitude': -73.97495},\n",
       " {'pickup_latitude': 40.73385, 'pickup_longitude': -74.0027},\n",
       " {'pickup_latitude': 40.768718, 'pickup_longitude': -73.96833},\n",
       " {'pickup_latitude': 40.787222, 'pickup_longitude': -73.971638},\n",
       " {'pickup_latitude': 40.782367, 'pickup_longitude': -73.97884},\n",
       " {'pickup_latitude': 40.751801, 'pickup_longitude': -73.933138},\n",
       " {'pickup_latitude': 40.756307, 'pickup_longitude': -73.991625},\n",
       " {'pickup_latitude': 40.755034, 'pickup_longitude': -73.974168},\n",
       " {'pickup_latitude': 40.712003, 'pickup_longitude': -73.945566},\n",
       " {'pickup_latitude': 40.750283, 'pickup_longitude': -73.994667},\n",
       " {'pickup_latitude': 40.740555, 'pickup_longitude': -73.994539},\n",
       " {'pickup_latitude': 40.798792, 'pickup_longitude': -73.963192},\n",
       " {'pickup_latitude': 40.715947, 'pickup_longitude': -74.016737},\n",
       " {'pickup_latitude': 40.70746, 'pickup_longitude': -74.004712},\n",
       " {'pickup_latitude': 40.76306, 'pickup_longitude': -73.996785},\n",
       " {'pickup_latitude': 40.707022, 'pickup_longitude': -74.013361},\n",
       " {'pickup_latitude': 40.760955, 'pickup_longitude': -73.969252},\n",
       " {'pickup_latitude': 40.758719, 'pickup_longitude': -74.000013},\n",
       " {'pickup_latitude': 40.763425, 'pickup_longitude': -73.989107},\n",
       " {'pickup_latitude': 40.743667, 'pickup_longitude': -73.983815},\n",
       " {'pickup_latitude': 40.743297, 'pickup_longitude': -73.98832},\n",
       " {'pickup_latitude': 40.748887, 'pickup_longitude': -73.992042},\n",
       " {'pickup_latitude': 40.74506, 'pickup_longitude': -73.99125},\n",
       " {'pickup_latitude': 40.783298, 'pickup_longitude': -73.955095},\n",
       " {'pickup_latitude': 40.79338, 'pickup_longitude': -73.967217},\n",
       " {'pickup_latitude': 40.759725, 'pickup_longitude': -73.973278},\n",
       " {'pickup_latitude': 40.789342, 'pickup_longitude': -73.948455},\n",
       " {'pickup_latitude': 40.717302, 'pickup_longitude': -73.994352},\n",
       " {'pickup_latitude': 40.759305, 'pickup_longitude': -73.986923},\n",
       " {'pickup_latitude': 40.75966, 'pickup_longitude': -73.96785},\n",
       " {'pickup_latitude': 40.763645, 'pickup_longitude': -73.985125},\n",
       " {'pickup_latitude': 40.75375, 'pickup_longitude': -73.99242},\n",
       " {'pickup_latitude': 40.754554, 'pickup_longitude': -73.993513},\n",
       " {'pickup_latitude': 40.733659, 'pickup_longitude': -74.002772},\n",
       " {'pickup_latitude': 40.747263, 'pickup_longitude': -73.974266},\n",
       " {'pickup_latitude': 0.0, 'pickup_longitude': 0.0},\n",
       " {'pickup_latitude': 40.789094, 'pickup_longitude': -73.975968},\n",
       " {'pickup_latitude': 40.77409, 'pickup_longitude': -73.87317},\n",
       " {'pickup_latitude': 40.744275, 'pickup_longitude': -74.006706},\n",
       " {'pickup_latitude': 40.739702, 'pickup_longitude': -74.006372},\n",
       " {'pickup_latitude': 40.75873, 'pickup_longitude': -73.99349},\n",
       " {'pickup_latitude': 40.749452, 'pickup_longitude': -73.991202},\n",
       " {'pickup_latitude': 40.754753, 'pickup_longitude': -73.968547},\n",
       " {'pickup_latitude': 40.751248, 'pickup_longitude': -73.994112},\n",
       " {'pickup_latitude': 40.709411, 'pickup_longitude': -74.01484},\n",
       " {'pickup_latitude': 40.783943, 'pickup_longitude': -73.977602},\n",
       " {'pickup_latitude': 40.754177, 'pickup_longitude': -73.995672},\n",
       " {'pickup_latitude': 40.762551, 'pickup_longitude': -73.968469},\n",
       " {'pickup_latitude': 40.709595, 'pickup_longitude': -74.006713},\n",
       " {'pickup_latitude': 40.75531, 'pickup_longitude': -73.979295},\n",
       " {'pickup_latitude': 40.744349, 'pickup_longitude': -73.985564},\n",
       " {'pickup_latitude': 40.767895, 'pickup_longitude': -73.981112},\n",
       " {'pickup_latitude': 40.754248, 'pickup_longitude': -73.972058},\n",
       " {'pickup_latitude': 40.754852, 'pickup_longitude': -73.968343},\n",
       " {'pickup_latitude': 40.774487, 'pickup_longitude': -73.872417},\n",
       " {'pickup_latitude': 40.779426, 'pickup_longitude': -73.977379},\n",
       " {'pickup_latitude': 40.767777, 'pickup_longitude': -73.955538},\n",
       " {'pickup_latitude': 40.77365, 'pickup_longitude': -73.870572},\n",
       " {'pickup_latitude': 40.750417, 'pickup_longitude': -73.994658},\n",
       " {'pickup_latitude': 40.737117, 'pickup_longitude': -73.988687},\n",
       " {'pickup_latitude': 40.738447, 'pickup_longitude': -74.003779},\n",
       " {'pickup_latitude': 40.75681, 'pickup_longitude': -73.96498},\n",
       " {'pickup_latitude': 40.788362, 'pickup_longitude': -73.978052},\n",
       " {'pickup_latitude': 40.742219, 'pickup_longitude': -73.994123},\n",
       " {'pickup_latitude': 40.747881, 'pickup_longitude': -73.993024},\n",
       " {'pickup_latitude': 40.763835, 'pickup_longitude': -73.915012},\n",
       " {'pickup_latitude': 40.778885, 'pickup_longitude': -73.958245},\n",
       " {'pickup_latitude': 40.76556, 'pickup_longitude': -73.983765},\n",
       " {'pickup_latitude': 40.745032, 'pickup_longitude': -73.995287},\n",
       " {'pickup_latitude': 40.736197, 'pickup_longitude': -73.981978},\n",
       " {'pickup_latitude': 40.758157, 'pickup_longitude': -73.968752},\n",
       " {'pickup_latitude': 40.719997, 'pickup_longitude': -73.99825},\n",
       " {'pickup_latitude': 40.752447, 'pickup_longitude': -73.970462},\n",
       " {'pickup_latitude': 40.714814, 'pickup_longitude': -74.016124},\n",
       " {'pickup_latitude': 40.754756, 'pickup_longitude': -73.984038},\n",
       " {'pickup_latitude': 40.799892, 'pickup_longitude': -73.969787},\n",
       " {'pickup_latitude': 40.759859, 'pickup_longitude': -73.973301},\n",
       " {'pickup_latitude': 40.689592, 'pickup_longitude': -73.992087},\n",
       " {'pickup_latitude': 40.776253, 'pickup_longitude': -73.962066},\n",
       " {'pickup_latitude': 40.749577, 'pickup_longitude': -73.992082},\n",
       " {'pickup_latitude': 40.777566, 'pickup_longitude': -73.950919},\n",
       " {'pickup_latitude': 40.749747, 'pickup_longitude': -73.991562},\n",
       " {'pickup_latitude': 40.742145, 'pickup_longitude': -73.984962},\n",
       " {'pickup_latitude': 40.746859, 'pickup_longitude': -73.988366},\n",
       " {'pickup_latitude': 40.7699, 'pickup_longitude': -73.984203},\n",
       " {'pickup_latitude': 40.737429, 'pickup_longitude': -73.987573},\n",
       " {'pickup_latitude': 40.76952, 'pickup_longitude': -73.99197},\n",
       " {'pickup_latitude': 40.7169, 'pickup_longitude': -74.0127},\n",
       " {'pickup_latitude': 40.718208, 'pickup_longitude': -73.986443},\n",
       " {'pickup_latitude': 40.775985, 'pickup_longitude': -73.947142},\n",
       " {'pickup_latitude': 40.774893, 'pickup_longitude': -73.988128},\n",
       " {'pickup_latitude': 40.750512, 'pickup_longitude': -73.98313},\n",
       " {'pickup_latitude': 40.73824, 'pickup_longitude': -73.993005},\n",
       " {'pickup_latitude': 40.749935, 'pickup_longitude': -73.979155},\n",
       " {'pickup_latitude': 40.759445, 'pickup_longitude': -73.995501},\n",
       " {'pickup_latitude': 40.725862, 'pickup_longitude': -73.997705},\n",
       " {'pickup_latitude': 40.720402, 'pickup_longitude': -73.99803},\n",
       " {'pickup_latitude': 40.725668, 'pickup_longitude': -73.996852},\n",
       " {'pickup_latitude': 40.761712, 'pickup_longitude': -73.972542},\n",
       " {'pickup_latitude': 40.767342, 'pickup_longitude': -73.954357},\n",
       " {'pickup_latitude': 40.751985, 'pickup_longitude': -73.993582},\n",
       " {'pickup_latitude': 40.725807, 'pickup_longitude': -73.992454},\n",
       " {'pickup_latitude': 40.798907, 'pickup_longitude': -73.959587},\n",
       " {'pickup_latitude': 40.763502, 'pickup_longitude': -73.96952},\n",
       " {'pickup_latitude': 40.76514, 'pickup_longitude': -73.886932},\n",
       " {'pickup_latitude': 40.725613, 'pickup_longitude': -74.003947},\n",
       " {'pickup_latitude': 40.787654, 'pickup_longitude': -73.952104},\n",
       " {'pickup_latitude': 40.749559, 'pickup_longitude': -73.975903},\n",
       " {'pickup_latitude': 40.746946, 'pickup_longitude': -73.99348},\n",
       " {'pickup_latitude': 40.750173, 'pickup_longitude': -73.986297},\n",
       " {'pickup_latitude': 40.743896, 'pickup_longitude': -73.971551},\n",
       " {'pickup_latitude': 40.767159, 'pickup_longitude': -73.986233},\n",
       " {'pickup_latitude': 40.777596, 'pickup_longitude': -73.98351},\n",
       " {'pickup_latitude': 40.74933, 'pickup_longitude': -73.97076},\n",
       " {'pickup_latitude': 40.758162, 'pickup_longitude': -73.992067},\n",
       " {'pickup_latitude': 40.75726, 'pickup_longitude': -73.97158},\n",
       " {'pickup_latitude': 40.752815, 'pickup_longitude': -73.989645},\n",
       " {'pickup_latitude': 40.734912, 'pickup_longitude': -73.99062},\n",
       " {'pickup_latitude': 40.76102, 'pickup_longitude': -73.967407},\n",
       " {'pickup_latitude': 40.704517, 'pickup_longitude': -74.008685},\n",
       " {'pickup_latitude': 40.760057, 'pickup_longitude': -73.968163},\n",
       " {'pickup_latitude': 40.80307, 'pickup_longitude': -73.967911},\n",
       " {'pickup_latitude': 40.755706, 'pickup_longitude': -73.975209},\n",
       " {'pickup_latitude': 40.774172, 'pickup_longitude': -73.959412},\n",
       " {'pickup_latitude': 40.757185, 'pickup_longitude': -73.99723},\n",
       " {'pickup_latitude': 40.750685, 'pickup_longitude': -74.002108},\n",
       " {'pickup_latitude': 40.75321, 'pickup_longitude': -73.996418},\n",
       " {'pickup_latitude': 40.771724, 'pickup_longitude': -73.981772},\n",
       " {'pickup_latitude': 40.72224, 'pickup_longitude': -74.00319},\n",
       " {'pickup_latitude': 40.765242, 'pickup_longitude': -73.960702},\n",
       " {'pickup_latitude': 40.776315, 'pickup_longitude': -73.952995},\n",
       " {'pickup_latitude': 40.761082, 'pickup_longitude': -73.961535},\n",
       " {'pickup_latitude': 40.76559, 'pickup_longitude': -73.98198},\n",
       " {'pickup_latitude': 40.719963, 'pickup_longitude': -73.987997},\n",
       " {'pickup_latitude': 40.732639, 'pickup_longitude': -73.986721},\n",
       " {'pickup_latitude': 40.718726, 'pickup_longitude': -73.992612},\n",
       " {'pickup_latitude': 40.774015, 'pickup_longitude': -73.961737},\n",
       " {'pickup_latitude': 40.750555, 'pickup_longitude': -73.991287},\n",
       " {'pickup_latitude': 40.741115, 'pickup_longitude': -74.00577},\n",
       " {'pickup_latitude': 40.727002, 'pickup_longitude': -73.994739},\n",
       " {'pickup_latitude': 40.77177, 'pickup_longitude': -73.98188},\n",
       " {'pickup_latitude': 40.753392, 'pickup_longitude': -73.966885},\n",
       " {'pickup_latitude': 40.764207, 'pickup_longitude': -73.9772},\n",
       " {'pickup_latitude': 0.0, 'pickup_longitude': 0.0},\n",
       " {'pickup_latitude': 40.774341, 'pickup_longitude': -73.963669},\n",
       " {'pickup_latitude': 40.756705, 'pickup_longitude': -73.97462},\n",
       " {'pickup_latitude': 40.728314, 'pickup_longitude': -74.007189},\n",
       " {'pickup_latitude': 40.73845, 'pickup_longitude': -74.003702},\n",
       " {'pickup_latitude': 40.763247, 'pickup_longitude': -73.97241},\n",
       " {'pickup_latitude': 40.741825, 'pickup_longitude': -74.004707},\n",
       " {'pickup_latitude': 40.7649, 'pickup_longitude': -73.9612},\n",
       " {'pickup_latitude': 40.744682, 'pickup_longitude': -73.978817},\n",
       " {'pickup_latitude': 40.717487, 'pickup_longitude': -73.99113},\n",
       " {'pickup_latitude': 40.729872, 'pickup_longitude': -74.002195},\n",
       " {'pickup_latitude': 40.745205, 'pickup_longitude': -73.982578},\n",
       " {'pickup_latitude': 40.773118, 'pickup_longitude': -73.885322},\n",
       " {'pickup_latitude': 40.744085, 'pickup_longitude': -73.981935},\n",
       " {'pickup_latitude': 40.800642, 'pickup_longitude': -73.967692},\n",
       " {'pickup_latitude': 40.770492, 'pickup_longitude': -73.966807},\n",
       " {'pickup_latitude': 40.751325, 'pickup_longitude': -73.978132},\n",
       " {'pickup_latitude': 40.764456, 'pickup_longitude': -73.976194},\n",
       " {'pickup_latitude': 40.763968, 'pickup_longitude': -73.979264},\n",
       " {'pickup_latitude': 40.745711, 'pickup_longitude': -74.008496},\n",
       " {'pickup_latitude': 40.78232, 'pickup_longitude': -73.951423},\n",
       " {'pickup_latitude': 40.722958, 'pickup_longitude': -73.987498},\n",
       " {'pickup_latitude': 40.690387, 'pickup_longitude': -74.177668},\n",
       " {'pickup_latitude': 40.761305, 'pickup_longitude': -73.989083},\n",
       " {'pickup_latitude': 40.754549, 'pickup_longitude': -73.993151},\n",
       " {'pickup_latitude': 40.77408, 'pickup_longitude': -73.874527},\n",
       " {'pickup_latitude': 40.735602, 'pickup_longitude': -73.98864},\n",
       " {'pickup_latitude': 40.772117, 'pickup_longitude': -73.982692},\n",
       " {'pickup_latitude': 40.736892, 'pickup_longitude': -73.98462},\n",
       " {'pickup_latitude': 40.705808, 'pickup_longitude': -74.006866},\n",
       " {'pickup_latitude': 40.797627, 'pickup_longitude': -73.960347},\n",
       " {'pickup_latitude': 40.745217, 'pickup_longitude': -73.978587},\n",
       " {'pickup_latitude': 40.776247, 'pickup_longitude': -73.94696},\n",
       " {'pickup_latitude': 40.780255, 'pickup_longitude': -73.9876},\n",
       " {'pickup_latitude': 40.77277, 'pickup_longitude': -73.982488},\n",
       " {'pickup_latitude': 40.772207, 'pickup_longitude': -73.94992},\n",
       " {'pickup_latitude': 40.758277, 'pickup_longitude': -73.937715},\n",
       " {'pickup_latitude': 40.721757, 'pickup_longitude': -73.99204},\n",
       " {'pickup_latitude': 40.74909, 'pickup_longitude': -73.970552},\n",
       " {'pickup_latitude': 40.753807, 'pickup_longitude': -73.979327},\n",
       " {'pickup_latitude': 40.771288, 'pickup_longitude': -73.98333},\n",
       " {'pickup_latitude': 40.715183, 'pickup_longitude': -74.009752},\n",
       " {'pickup_latitude': 40.77827, 'pickup_longitude': -73.982238},\n",
       " {'pickup_latitude': 40.774696, 'pickup_longitude': -73.982317},\n",
       " {'pickup_latitude': 40.74408, 'pickup_longitude': -73.984265},\n",
       " {'pickup_latitude': 40.720975, 'pickup_longitude': -73.993653},\n",
       " {'pickup_latitude': 40.73918, 'pickup_longitude': -73.98305},\n",
       " {'pickup_latitude': 40.764142, 'pickup_longitude': -73.95442},\n",
       " {'pickup_latitude': 40.725785, 'pickup_longitude': -73.996472},\n",
       " {'pickup_latitude': 40.773538, 'pickup_longitude': -73.98794},\n",
       " {'pickup_latitude': 40.726065, 'pickup_longitude': -73.989278},\n",
       " {'pickup_latitude': 40.728097, 'pickup_longitude': -73.986215},\n",
       " {'pickup_latitude': 40.745012, 'pickup_longitude': -73.978387},\n",
       " {'pickup_latitude': 40.774312, 'pickup_longitude': -73.989205},\n",
       " {'pickup_latitude': 40.761926, 'pickup_longitude': -73.958256},\n",
       " {'pickup_latitude': 40.7297, 'pickup_longitude': -73.99328},\n",
       " {'pickup_latitude': 40.76393, 'pickup_longitude': -73.97328},\n",
       " {'pickup_latitude': 40.78277, 'pickup_longitude': -73.948383},\n",
       " {'pickup_latitude': 40.759347, 'pickup_longitude': -73.981522},\n",
       " {'pickup_latitude': 40.725635, 'pickup_longitude': -73.996771},\n",
       " {'pickup_latitude': 40.751109, 'pickup_longitude': -73.980176},\n",
       " {'pickup_latitude': 40.73672, 'pickup_longitude': -74.001152},\n",
       " {'pickup_latitude': 40.74207, 'pickup_longitude': -74.00089},\n",
       " {'pickup_latitude': 40.75857, 'pickup_longitude': -73.992855},\n",
       " {'pickup_latitude': 40.727227, 'pickup_longitude': -73.996435},\n",
       " {'pickup_latitude': 40.741078, 'pickup_longitude': -73.9899},\n",
       " {'pickup_latitude': 40.748019, 'pickup_longitude': -73.98097},\n",
       " {'pickup_latitude': 40.762081, 'pickup_longitude': -73.978908},\n",
       " {'pickup_latitude': 40.746683, 'pickup_longitude': -73.979712},\n",
       " {'pickup_latitude': 40.75576, 'pickup_longitude': -73.98858},\n",
       " {'pickup_latitude': 40.737382, 'pickup_longitude': -73.997073},\n",
       " {'pickup_latitude': 40.773777, 'pickup_longitude': -73.870957},\n",
       " {'pickup_latitude': 40.762767, 'pickup_longitude': -73.982293},\n",
       " {'pickup_latitude': 40.788335, 'pickup_longitude': -73.97625},\n",
       " {'pickup_latitude': 40.708292, 'pickup_longitude': -73.939932},\n",
       " {'pickup_latitude': 40.737012, 'pickup_longitude': -73.99704},\n",
       " {'pickup_latitude': 40.785612, 'pickup_longitude': -73.951147},\n",
       " {'pickup_latitude': 40.763332, 'pickup_longitude': -73.965163},\n",
       " {'pickup_latitude': 40.757283, 'pickup_longitude': -73.984915},\n",
       " {'pickup_latitude': 40.769862, 'pickup_longitude': -73.962567},\n",
       " {'pickup_latitude': 40.763994, 'pickup_longitude': -73.973275},\n",
       " {'pickup_latitude': 40.719707, 'pickup_longitude': -74.001687},\n",
       " {'pickup_latitude': 40.763028, 'pickup_longitude': -73.959639},\n",
       " {'pickup_latitude': 40.780782, 'pickup_longitude': -73.958628},\n",
       " {'pickup_latitude': 40.756066, 'pickup_longitude': -73.980939},\n",
       " {'pickup_latitude': 40.79712, 'pickup_longitude': -73.964465},\n",
       " {'pickup_latitude': 40.772652, 'pickup_longitude': -73.885138},\n",
       " {'pickup_latitude': 40.782582, 'pickup_longitude': -73.951088},\n",
       " {'pickup_latitude': 40.754822, 'pickup_longitude': -73.971017},\n",
       " {'pickup_latitude': 40.722532, 'pickup_longitude': -73.987428},\n",
       " {'pickup_latitude': 40.760442, 'pickup_longitude': -73.980648},\n",
       " {'pickup_latitude': 40.764282, 'pickup_longitude': -73.984948},\n",
       " {'pickup_latitude': 40.746333, 'pickup_longitude': -73.978038},\n",
       " {'pickup_latitude': 40.770377, 'pickup_longitude': -73.987478},\n",
       " {'pickup_latitude': 40.763152, 'pickup_longitude': -73.962962},\n",
       " {'pickup_latitude': 40.75781, 'pickup_longitude': -73.975233},\n",
       " {'pickup_latitude': 40.745593, 'pickup_longitude': -73.986817},\n",
       " {'pickup_latitude': 40.783545, 'pickup_longitude': -73.954963},\n",
       " {'pickup_latitude': 40.757605, 'pickup_longitude': -73.97543},\n",
       " {'pickup_latitude': 40.75899, 'pickup_longitude': -73.973248},\n",
       " {'pickup_latitude': 40.713662, 'pickup_longitude': -74.008577},\n",
       " {'pickup_latitude': 40.776252, 'pickup_longitude': -73.958072},\n",
       " {'pickup_latitude': 40.764, 'pickup_longitude': -73.97666},\n",
       " {'pickup_latitude': 40.74787, 'pickup_longitude': -74.003975},\n",
       " {'pickup_latitude': 40.748717, 'pickup_longitude': -73.992417},\n",
       " {'pickup_latitude': 40.771905, 'pickup_longitude': -73.965624},\n",
       " {'pickup_latitude': 40.783138, 'pickup_longitude': -73.947885},\n",
       " {'pickup_latitude': 40.75708, 'pickup_longitude': -73.96923},\n",
       " {'pickup_latitude': 40.848462, 'pickup_longitude': -73.937645},\n",
       " {'pickup_latitude': 40.744697, 'pickup_longitude': -73.98626},\n",
       " {'pickup_latitude': 40.768147, 'pickup_longitude': -73.968142},\n",
       " {'pickup_latitude': 40.741328, 'pickup_longitude': -73.989642},\n",
       " {'pickup_latitude': 40.77847, 'pickup_longitude': -73.98185},\n",
       " {'pickup_latitude': 40.782873, 'pickup_longitude': -73.948122},\n",
       " {'pickup_latitude': 40.78711, 'pickup_longitude': -73.954356},\n",
       " {'pickup_latitude': 40.762862, 'pickup_longitude': -73.985855},\n",
       " {'pickup_latitude': 40.78579, 'pickup_longitude': -73.976302},\n",
       " {'pickup_latitude': 40.782512, 'pickup_longitude': -73.95305},\n",
       " {'pickup_latitude': 40.771552, 'pickup_longitude': -73.953405},\n",
       " {'pickup_latitude': 40.759172, 'pickup_longitude': -73.968517},\n",
       " {'pickup_latitude': 40.740622, 'pickup_longitude': -74.007735},\n",
       " {'pickup_latitude': 40.750938, 'pickup_longitude': -73.974878},\n",
       " {'pickup_latitude': 40.77435, 'pickup_longitude': -73.963497},\n",
       " {'pickup_latitude': 40.77831, 'pickup_longitude': -73.9454},\n",
       " {'pickup_latitude': 40.760477, 'pickup_longitude': -73.998625},\n",
       " {'pickup_latitude': 40.77338, 'pickup_longitude': -73.954888},\n",
       " {'pickup_latitude': 40.760643, 'pickup_longitude': -73.962616},\n",
       " {'pickup_latitude': 40.68703, 'pickup_longitude': -73.98489},\n",
       " {'pickup_latitude': 40.77164, 'pickup_longitude': -73.98298},\n",
       " {'pickup_latitude': 40.764902, 'pickup_longitude': -73.97692},\n",
       " {'pickup_latitude': 40.767331, 'pickup_longitude': -73.962998},\n",
       " {'pickup_latitude': 40.77919, 'pickup_longitude': -73.954987},\n",
       " {'pickup_latitude': 40.763407, 'pickup_longitude': -73.974485},\n",
       " {'pickup_latitude': 40.751124, 'pickup_longitude': -73.975967},\n",
       " {'pickup_latitude': 40.73599, 'pickup_longitude': -74.000955},\n",
       " {'pickup_latitude': 40.761058, 'pickup_longitude': -73.985524},\n",
       " {'pickup_latitude': 40.745909, 'pickup_longitude': -73.998101},\n",
       " {'pickup_latitude': 40.744849, 'pickup_longitude': -73.991395},\n",
       " {'pickup_latitude': 40.750342, 'pickup_longitude': -73.994657},\n",
       " {'pickup_latitude': 40.763665, 'pickup_longitude': -73.986105},\n",
       " {'pickup_latitude': 40.765862, 'pickup_longitude': -73.9606},\n",
       " {'pickup_latitude': 40.75729, 'pickup_longitude': -73.98991},\n",
       " {'pickup_latitude': 40.763148, 'pickup_longitude': -73.979234},\n",
       " {'pickup_latitude': 40.70626, 'pickup_longitude': -74.004265},\n",
       " {'pickup_latitude': 40.782011, 'pickup_longitude': -73.956252},\n",
       " {'pickup_latitude': 40.671487, 'pickup_longitude': -73.984354},\n",
       " {'pickup_latitude': 40.753034, 'pickup_longitude': -73.989329},\n",
       " {'pickup_latitude': 40.744997, 'pickup_longitude': -73.981732},\n",
       " {'pickup_latitude': 40.721882, 'pickup_longitude': -73.989213},\n",
       " {'pickup_latitude': 40.752342, 'pickup_longitude': -73.974746},\n",
       " {'pickup_latitude': 40.709415, 'pickup_longitude': -74.008147},\n",
       " {'pickup_latitude': 40.755637, 'pickup_longitude': -73.96482},\n",
       " {'pickup_latitude': 40.780847, 'pickup_longitude': -73.981522},\n",
       " {'pickup_latitude': 40.73668, 'pickup_longitude': -73.995368},\n",
       " {'pickup_latitude': 40.707517, 'pickup_longitude': -74.004445},\n",
       " {'pickup_latitude': 40.73706, 'pickup_longitude': -73.99012},\n",
       " {'pickup_latitude': 40.769119, 'pickup_longitude': -73.987085},\n",
       " {'pickup_latitude': 40.750492, 'pickup_longitude': -73.99465},\n",
       " {'pickup_latitude': 40.779416, 'pickup_longitude': -73.957448},\n",
       " {'pickup_latitude': 40.779454, 'pickup_longitude': -73.961831},\n",
       " {'pickup_latitude': 40.773952, 'pickup_longitude': -73.871235},\n",
       " {'pickup_latitude': 40.756805, 'pickup_longitude': -73.990317},\n",
       " {'pickup_latitude': 40.766251, 'pickup_longitude': -73.98011},\n",
       " {'pickup_latitude': 40.747098, 'pickup_longitude': -73.98622},\n",
       " {'pickup_latitude': 40.774347, 'pickup_longitude': -73.963485},\n",
       " {'pickup_latitude': 40.73735, 'pickup_longitude': -73.988662},\n",
       " {'pickup_latitude': 40.755507, 'pickup_longitude': -73.976157},\n",
       " {'pickup_latitude': 0.0, 'pickup_longitude': 0.0},\n",
       " {'pickup_latitude': 40.77734, 'pickup_longitude': -73.978578},\n",
       " {'pickup_latitude': 40.730313, 'pickup_longitude': -74.00019},\n",
       " {'pickup_latitude': 40.770965, 'pickup_longitude': -73.964002},\n",
       " {'pickup_latitude': 40.747897, 'pickup_longitude': -74.003746},\n",
       " {'pickup_latitude': 40.743013, 'pickup_longitude': -73.992796},\n",
       " {'pickup_latitude': 40.757036, 'pickup_longitude': -73.976146},\n",
       " {'pickup_latitude': 40.75083, 'pickup_longitude': -73.990808},\n",
       " {'pickup_latitude': 40.747865, 'pickup_longitude': -73.99322},\n",
       " {'pickup_latitude': 40.758215, 'pickup_longitude': -73.937667},\n",
       " {'pickup_latitude': 40.750687, 'pickup_longitude': -73.943522},\n",
       " {'pickup_latitude': 40.734432, 'pickup_longitude': -73.99974},\n",
       " {'pickup_latitude': 40.766799, 'pickup_longitude': -73.983307},\n",
       " {'pickup_latitude': 40.752133, 'pickup_longitude': -74.004754},\n",
       " {'pickup_latitude': 40.719627, 'pickup_longitude': -74.00689},\n",
       " {'pickup_latitude': 40.77012, 'pickup_longitude': -73.86361},\n",
       " {'pickup_latitude': 40.753714, 'pickup_longitude': -73.992042},\n",
       " {'pickup_latitude': 40.779378, 'pickup_longitude': -73.97747},\n",
       " {'pickup_latitude': 40.764967, 'pickup_longitude': -73.989047},\n",
       " {'pickup_latitude': 40.724772, 'pickup_longitude': -73.990509},\n",
       " {'pickup_latitude': 40.734817, 'pickup_longitude': -73.990455},\n",
       " {'pickup_latitude': 40.751752, 'pickup_longitude': -73.990012},\n",
       " {'pickup_latitude': 40.756564, 'pickup_longitude': -73.994046},\n",
       " {'pickup_latitude': 40.742736, 'pickup_longitude': -74.000354},\n",
       " {'pickup_latitude': 0.0, 'pickup_longitude': 0.0},\n",
       " {'pickup_latitude': 40.741672, 'pickup_longitude': -74.004627},\n",
       " {'pickup_latitude': 40.72597, 'pickup_longitude': -73.99738},\n",
       " {'pickup_latitude': 40.743772, 'pickup_longitude': -73.992388},\n",
       " {'pickup_latitude': 40.71032, 'pickup_longitude': -74.009677},\n",
       " {'pickup_latitude': 40.710885, 'pickup_longitude': -74.010269},\n",
       " {'pickup_latitude': 40.768567, 'pickup_longitude': -73.969685},\n",
       " {'pickup_latitude': 40.755322, 'pickup_longitude': -73.987748},\n",
       " {'pickup_latitude': 40.750872, 'pickup_longitude': -73.993015},\n",
       " {'pickup_latitude': 40.691887, 'pickup_longitude': -73.982322},\n",
       " {'pickup_latitude': 40.753002, 'pickup_longitude': -73.996735},\n",
       " {'pickup_latitude': 40.765657, 'pickup_longitude': -73.970445},\n",
       " {'pickup_latitude': 40.718429, 'pickup_longitude': -73.987265},\n",
       " {'pickup_latitude': 40.75261, 'pickup_longitude': -73.978503},\n",
       " {'pickup_latitude': 40.774841, 'pickup_longitude': -73.963199},\n",
       " {'pickup_latitude': 40.820267, 'pickup_longitude': -73.955068},\n",
       " {'pickup_latitude': 40.749905, 'pickup_longitude': -73.995245},\n",
       " {'pickup_latitude': 40.790222, 'pickup_longitude': -73.976825},\n",
       " {'pickup_latitude': 40.751243, 'pickup_longitude': -73.993928},\n",
       " {'pickup_latitude': 40.769372, 'pickup_longitude': -73.984837},\n",
       " {'pickup_latitude': 40.802452, 'pickup_longitude': -73.9623},\n",
       " {'pickup_latitude': 40.740012, 'pickup_longitude': -73.99121},\n",
       " {'pickup_latitude': 40.724477, 'pickup_longitude': -73.98706},\n",
       " {'pickup_latitude': 40.649679, 'pickup_longitude': -73.804526},\n",
       " {'pickup_latitude': 40.763434, 'pickup_longitude': -73.965213},\n",
       " {'pickup_latitude': 40.813836, 'pickup_longitude': -73.936919},\n",
       " {'pickup_latitude': 40.748613, 'pickup_longitude': -73.983003},\n",
       " {'pickup_latitude': 40.756067, 'pickup_longitude': -73.990297},\n",
       " {'pickup_latitude': 40.751127, 'pickup_longitude': -73.993905},\n",
       " {'pickup_latitude': 40.757541, 'pickup_longitude': -73.974641},\n",
       " {'pickup_latitude': 40.783417, 'pickup_longitude': -73.951313},\n",
       " {'pickup_latitude': 40.755617, 'pickup_longitude': -73.962448},\n",
       " {'pickup_latitude': 40.770837, 'pickup_longitude': -73.991015},\n",
       " {'pickup_latitude': 40.770932, 'pickup_longitude': -73.86622},\n",
       " {'pickup_latitude': 40.742625, 'pickup_longitude': -73.995955},\n",
       " {'pickup_latitude': 40.767386, 'pickup_longitude': -73.98615},\n",
       " {'pickup_latitude': 40.729417, 'pickup_longitude': -73.98997},\n",
       " {'pickup_latitude': 0.0, 'pickup_longitude': 0.0},\n",
       " {'pickup_latitude': 40.76026, 'pickup_longitude': -73.97671},\n",
       " {'pickup_latitude': 40.748453, 'pickup_longitude': -73.973209},\n",
       " {'pickup_latitude': 40.763605, 'pickup_longitude': -73.98895},\n",
       " {'pickup_latitude': 40.735872, 'pickup_longitude': -74.006705},\n",
       " {'pickup_latitude': 40.761363, 'pickup_longitude': -73.969672},\n",
       " {'pickup_latitude': 40.661145, 'pickup_longitude': -73.997122},\n",
       " {'pickup_latitude': 40.748542, 'pickup_longitude': -73.987952},\n",
       " {'pickup_latitude': 40.781112, 'pickup_longitude': -73.954135},\n",
       " {'pickup_latitude': 40.762465, 'pickup_longitude': -73.957122},\n",
       " {'pickup_latitude': 40.74805, 'pickup_longitude': -74.00412},\n",
       " {'pickup_latitude': 40.780242, 'pickup_longitude': -73.959577},\n",
       " {'pickup_latitude': 40.764726, 'pickup_longitude': -73.976783},\n",
       " {'pickup_latitude': 40.733294, 'pickup_longitude': -74.002744},\n",
       " {'pickup_latitude': 40.74976, 'pickup_longitude': -73.993847},\n",
       " {'pickup_latitude': 40.753168, 'pickup_longitude': -73.969728},\n",
       " {'pickup_latitude': 40.764099, 'pickup_longitude': -73.973033},\n",
       " {'pickup_latitude': 40.796757, 'pickup_longitude': -73.970537},\n",
       " {'pickup_latitude': 40.765015, 'pickup_longitude': -73.976836},\n",
       " {'pickup_latitude': 40.722397, 'pickup_longitude': -73.988933},\n",
       " {'pickup_latitude': 40.784722, 'pickup_longitude': -73.958018},\n",
       " {'pickup_latitude': 40.734082, 'pickup_longitude': -74.006202},\n",
       " {'pickup_latitude': 40.74772, 'pickup_longitude': -73.98274},\n",
       " {'pickup_latitude': 40.774329, 'pickup_longitude': -73.988897},\n",
       " {'pickup_latitude': 40.742366, 'pickup_longitude': -73.99317},\n",
       " {'pickup_latitude': 40.739342, 'pickup_longitude': -74.001677},\n",
       " {'pickup_latitude': 40.756363, 'pickup_longitude': -73.985773},\n",
       " {'pickup_latitude': 40.738254, 'pickup_longitude': -73.983499},\n",
       " {'pickup_latitude': 40.735046, 'pickup_longitude': -73.990119},\n",
       " {'pickup_latitude': 40.755857, 'pickup_longitude': -73.997045},\n",
       " {'pickup_latitude': 40.772357, 'pickup_longitude': -73.960927},\n",
       " {'pickup_latitude': 40.775272, 'pickup_longitude': -73.95043},\n",
       " {'pickup_latitude': 40.763642, 'pickup_longitude': -73.988995},\n",
       " {'pickup_latitude': 40.768787, 'pickup_longitude': -73.862845},\n",
       " {'pickup_latitude': 40.772327, 'pickup_longitude': -73.952635},\n",
       " {'pickup_latitude': 40.750617, 'pickup_longitude': -73.97391},\n",
       " {'pickup_latitude': 40.74049, 'pickup_longitude': -73.998152},\n",
       " {'pickup_latitude': 40.759067, 'pickup_longitude': -73.977369},\n",
       " {'pickup_latitude': 40.762444, 'pickup_longitude': -73.98244},\n",
       " {'pickup_latitude': 40.774087, 'pickup_longitude': -73.874592},\n",
       " {'pickup_latitude': 40.781736, 'pickup_longitude': -73.981283},\n",
       " {'pickup_latitude': 40.757812, 'pickup_longitude': -73.989042},\n",
       " {'pickup_latitude': 40.787172, 'pickup_longitude': -73.97763}]"
      ]
     },
     "execution_count": 21,
     "metadata": {},
     "output_type": "execute_result"
    }
   ],
   "source": [
    "first_location = location(first_trip) # [40.64499, -73.78115]\n",
    "first_location # [40.64499, -73.78115]"
   ]
  },
  {
   "cell_type": "markdown",
   "metadata": {},
   "source": [
    "Ok, now that we can turn a trip into a location, let's turn a location into a marker.  Write a function called `to_marker` that takes in a location (in the form of a list) as an argument, and returns a folium `circleMarker` for that location.  The radius of the marker should always equal 6."
   ]
  },
  {
   "cell_type": "code",
   "execution_count": null,
   "metadata": {},
   "outputs": [],
   "source": [
    "def to_marker(location):\n",
    "    pass"
   ]
  },
  {
   "cell_type": "code",
   "execution_count": null,
   "metadata": {},
   "outputs": [],
   "source": [
    "import json\n",
    "times_square_marker = to_marker([40.7589, -73.9851])\n",
    "\n",
    "times_square_marker and times_square_marker.location # [40.7589, -73.9851]\n",
    "times_square_marker and json.loads(times_square_marker.options)['radius'] # 6"
   ]
  },
  {
   "cell_type": "markdown",
   "metadata": {},
   "source": [
    "Ok, now that we know how to produce a single marker, let's write a function to produce lots.  We can write a function called `markers_from_trips` that takes in a list of trips, and returns a marker object for each trip.  "
   ]
  },
  {
   "cell_type": "code",
   "execution_count": null,
   "metadata": {},
   "outputs": [],
   "source": [
    "def markers_from_trips(trips):\n",
    "    pass"
   ]
  },
  {
   "cell_type": "code",
   "execution_count": null,
   "metadata": {},
   "outputs": [],
   "source": [
    "trip_markers = markers_from_trips(cleaned_trips)"
   ]
  },
  {
   "cell_type": "code",
   "execution_count": null,
   "metadata": {},
   "outputs": [],
   "source": [
    "cleaned_trips[0:4]"
   ]
  },
  {
   "cell_type": "code",
   "execution_count": null,
   "metadata": {},
   "outputs": [],
   "source": [
    "trip_markers and len(trip_markers) # 1000\n",
    "\n",
    "list(map(lambda marker: marker.location, trip_markers[0:4]))\n",
    "# [[40.64499, -73.78115],\n",
    "#  [40.766931, -73.982098],\n",
    "#  [40.77773, -73.951902],\n",
    "#  [40.795678, -73.971049]]"
   ]
  },
  {
   "cell_type": "markdown",
   "metadata": {},
   "source": [
    "Ok, now that we have a function that creates locations, and a function that creates markers, it is time to write a function to plot a map. \n",
    "\n",
    "Write a function called `map_from` that, provided the first argument of a list location and second argument an integer representing the `zoom_start`, returns a `folium` map the corresponding location and `zoom_start` attributes.\n",
    "\n",
    "> Hint: The following is how to write a map with folium:\n",
    "> ```python \n",
    "    folium.Map(location=location, zoom_start=zoom_amount)\n",
    "> ```"
   ]
  },
  {
   "cell_type": "code",
   "execution_count": null,
   "metadata": {},
   "outputs": [],
   "source": [
    "def map_from(location, zoom_amount):\n",
    "    pass"
   ]
  },
  {
   "cell_type": "code",
   "execution_count": null,
   "metadata": {},
   "outputs": [],
   "source": [
    "times_square_map = map_from([40.7589, -73.9851], 15)\n",
    "times_square_map and times_square_map.location # [40.7589, -73.9851]\n",
    "times_square_map and times_square_map.zoom_start # 15"
   ]
  },
  {
   "cell_type": "code",
   "execution_count": null,
   "metadata": {
    "scrolled": true
   },
   "outputs": [],
   "source": [
    "times_square_marker and times_square_marker.add_to(times_square_map)\n",
    "times_square_map"
   ]
  },
  {
   "cell_type": "markdown",
   "metadata": {},
   "source": [
    "Now that we have a marker and a map, now let's write a function that adds a lot of markers to a map.  This function should add each marker in the list to the map object then return the updated map object."
   ]
  },
  {
   "cell_type": "code",
   "execution_count": null,
   "metadata": {},
   "outputs": [],
   "source": [
    "manhattan_map = map_from([40.7589, -73.9851], 13)"
   ]
  },
  {
   "cell_type": "code",
   "execution_count": null,
   "metadata": {},
   "outputs": [],
   "source": [
    "def add_markers(markers, map_obj):\n",
    "    pass"
   ]
  },
  {
   "cell_type": "code",
   "execution_count": null,
   "metadata": {
    "scrolled": false
   },
   "outputs": [],
   "source": [
    "map_with_markers = add_markers(trip_markers, manhattan_map)"
   ]
  },
  {
   "cell_type": "code",
   "execution_count": null,
   "metadata": {},
   "outputs": [],
   "source": [
    "map_with_markers"
   ]
  },
  {
   "cell_type": "markdown",
   "metadata": {},
   "source": [
    "### Using Nearest Neighbors"
   ]
  },
  {
   "cell_type": "markdown",
   "metadata": {},
   "source": [
    "Ok, let's write a function that given a latitude and longitude will predict the distance for us.  We'll do this by first finding the nearest trips given a latitude and longitude. "
   ]
  },
  {
   "cell_type": "markdown",
   "metadata": {},
   "source": [
    "Here we once again apply the nearest neighbors formula. As a first step, write a function named `distance_location` that calculates the distance in pickup location between two trips."
   ]
  },
  {
   "cell_type": "code",
   "execution_count": null,
   "metadata": {},
   "outputs": [],
   "source": [
    "import math\n",
    "\n",
    "def distance_location(selected_trip, neighbor_trip):\n",
    "    pass"
   ]
  },
  {
   "cell_type": "code",
   "execution_count": null,
   "metadata": {},
   "outputs": [],
   "source": [
    "first_trip = {'pickup_latitude': 40.64499, 'pickup_longitude': -73.78115, 'trip_distance': 18.38}\n",
    "second_trip = {'pickup_latitude': 40.766931, 'pickup_longitude': -73.982098, 'trip_distance': 1.3}\n",
    "distance_first_and_second = distance_location(first_trip, second_trip)\n",
    "\n",
    "distance_first_and_second and round(distance_first_and_second, 3) # 0.235"
   ]
  },
  {
   "cell_type": "markdown",
   "metadata": {},
   "source": [
    "Ok, next write a function called `distance_between_neighbors` that adds a new key-value pair, called `distance_from_selected`, that calculates the distance of the `neighbor_trip` from the `selected_trip`."
   ]
  },
  {
   "cell_type": "code",
   "execution_count": null,
   "metadata": {},
   "outputs": [],
   "source": [
    "def distance_between_neighbors(selected_trip, neighbor_trip):\n",
    "    pass"
   ]
  },
  {
   "cell_type": "code",
   "execution_count": null,
   "metadata": {},
   "outputs": [],
   "source": [
    "distance_between_neighbors(first_trip, second_trip)\n",
    "\n",
    "# {'distance_from_selected': 0.23505256047318146,\n",
    "#  'pickup_latitude': 40.766931,\n",
    "#  'pickup_longitude': -73.982098,\n",
    "#  'trip_distance': 1.3}"
   ]
  },
  {
   "cell_type": "markdown",
   "metadata": {},
   "source": [
    "Ok, now our `neighbor_trip` has another attribute called `distance_from_selected`, that indicates the distance from the `neighbor_trip`'s pickup location from the `selected_trip`."
   ]
  },
  {
   "cell_type": "markdown",
   "metadata": {},
   "source": [
    "> ** Understand the data:** Our dictionary now has a few attributes, two of which say distance.  Let's make sure we understand the difference. \n",
    "> * **`distance_from_selected`:** This is our calculation of the distance of the neighbor's pickup location from the selected trip.\n",
    "> * **`trip_distance`:** This is the attribute we were provided initially.  It tells us the length of the neighbor's taxi trip from pickup to drop-off.  "
   ]
  },
  {
   "cell_type": "markdown",
   "metadata": {},
   "source": [
    "Next, write a function called `distance_all` that provided a list of neighbors, returns each of those neighbors with their respective `distance_from_selected` numbers."
   ]
  },
  {
   "cell_type": "code",
   "execution_count": null,
   "metadata": {},
   "outputs": [],
   "source": [
    "def distance_all(selected_individual, neighbors):\n",
    "    pass"
   ]
  },
  {
   "cell_type": "code",
   "execution_count": null,
   "metadata": {},
   "outputs": [],
   "source": [
    "cleaned_trips and distance_all(first_trip, cleaned_trips[0:4])"
   ]
  },
  {
   "cell_type": "markdown",
   "metadata": {},
   "source": [
    "Now write the nearest neighbors formula to calculate the distance of the `selected_trip` from all of the `cleaned_trips` in our dataset.  If no number is provided, it should return the top 3 neighbors."
   ]
  },
  {
   "cell_type": "code",
   "execution_count": null,
   "metadata": {},
   "outputs": [],
   "source": [
    "def nearest_neighbors(selected_trip, trips, number = 3):\n",
    "    pass"
   ]
  },
  {
   "cell_type": "code",
   "execution_count": null,
   "metadata": {},
   "outputs": [],
   "source": [
    "new_trip = {'pickup_latitude': 40.64499,\n",
    "'pickup_longitude': -73.78115,\n",
    "'trip_distance': 18.38}\n",
    "\n",
    "nearest_three_neighbors = nearest_neighbors(new_trip, cleaned_trips or [], number = 3)\n",
    "nearest_three_neighbors\n",
    "# [{'distance_from_selected': 0.0004569288784918792,\n",
    "#   'pickup_latitude': 40.64483,\n",
    "#   'pickup_longitude': -73.781578,\n",
    "#   'trip_distance': 7.78},\n",
    "#  {'distance_from_selected': 0.0011292165425673159,\n",
    "#   'pickup_latitude': 40.644657,\n",
    "#   'pickup_longitude': -73.782229,\n",
    "#   'trip_distance': 12.7},\n",
    "#  {'distance_from_selected': 0.0042359798158141185,\n",
    "#   'pickup_latitude': 40.648509,\n",
    "#   'pickup_longitude': -73.783508,\n",
    "#   'trip_distance': 17.3}]"
   ]
  },
  {
   "cell_type": "markdown",
   "metadata": {},
   "source": [
    "Ok great! Now that we can provide a new trip location, and find the distances of the three nearest trips, we can take  calculate an estimate of the trip distance for that new trip location.  \n",
    "\n",
    "We do so simply by calculating the average of it's nearest neighbors."
   ]
  },
  {
   "cell_type": "code",
   "execution_count": null,
   "metadata": {},
   "outputs": [],
   "source": [
    "import statistics\n",
    "def mean_distance(neighbors):\n",
    "    nearest_distances = list(map(lambda neighbor: neighbor['trip_distance'], neighbors))\n",
    "    return round(statistics.mean(nearest_distances), 3)\n",
    "\n",
    "nearest_three_neighbors = nearest_neighbors(new_trip, cleaned_trips or [], number = 3)\n",
    "distance_estimate_of_selected_trip = mean_distance(nearest_three_neighbors) # 12.593\n",
    "distance_estimate_of_selected_trip"
   ]
  },
  {
   "cell_type": "markdown",
   "metadata": {},
   "source": [
    "### Choosing the correct number of neighbors"
   ]
  },
  {
   "cell_type": "markdown",
   "metadata": {},
   "source": [
    "Now, as we know from the last lesson, one tricky element is to determine how many neighbors to choose, our $k$ value,  before calculating the average.  We want to choose our value of $k$ such that it properly matches actual data, and so that it applies to new data.  There are fancy formulas to ensure that we **train** our algorithm so that our formula is optimized for all data, but here let's see different $k$ values manually.  This is the gist of choosing our $k$ value:\n",
    "\n",
    "* If we choose a $k$ value too low, our formula will be too heavily influenced by a single neighbor, whereas if our $k$ value is too high, we will be choosing so many neighbors that our nearest neighbors formula will not be adjust enough according to locations.\n",
    "\n",
    "Ok, let's experiment with this."
   ]
  },
  {
   "cell_type": "markdown",
   "metadata": {},
   "source": [
    "First, let's choose a midtown location, to see what the trip distance would be.  A Google search reveals the coordinates of 51st and 7th avenue to be the following."
   ]
  },
  {
   "cell_type": "code",
   "execution_count": null,
   "metadata": {},
   "outputs": [],
   "source": [
    "midtown_trip = dict(pickup_latitude=40.761710, pickup_longitude=-73.982760)"
   ]
  },
  {
   "cell_type": "code",
   "execution_count": null,
   "metadata": {},
   "outputs": [],
   "source": [
    "seven_closest = nearest_neighbors(midtown_trip, cleaned_trips, number = 7)\n",
    "seven_closest\n",
    "# [{'trip_distance': 0.58,\n",
    "#   'pickup_latitude': 40.761372,\n",
    "#   'pickup_longitude': -73.982602,\n",
    "#   'distance_from_selected': 0.00037310588309379025},\n",
    "#  {'trip_distance': 0.8,\n",
    "#   'pickup_latitude': 40.762444,\n",
    "#   'pickup_longitude': -73.98244,\n",
    "#   'distance_from_selected': 0.00080072217404248},\n",
    "#  {'trip_distance': 1.4,\n",
    "#   'pickup_latitude': 40.762767,\n",
    "#   'pickup_longitude': -73.982293,\n",
    "#   'distance_from_selected': 0.0011555682584735844},\n",
    "#  {'trip_distance': 8.3,\n",
    "#   'pickup_latitude': 40.762868,\n",
    "#   'pickup_longitude': -73.983233,\n",
    "#   'distance_from_selected': 0.0012508768924205918},\n",
    "#  {'trip_distance': 1.26,\n",
    "#   'pickup_latitude': 40.760057,\n",
    "#   'pickup_longitude': -73.983502,\n",
    "#   'distance_from_selected': 0.0018118976240381972},\n",
    "#  {'trip_distance': 0.0,\n",
    "#   'pickup_latitude': 40.760644,\n",
    "#   'pickup_longitude': -73.984531,\n",
    "#   'distance_from_selected': 0.002067074502774709},\n",
    "#  {'trip_distance': 1.72,\n",
    "#   'pickup_latitude': 40.762107,\n",
    "#   'pickup_longitude': -73.98479,\n",
    "#   'distance_from_selected': 0.0020684557041472677}]"
   ]
  },
  {
   "cell_type": "markdown",
   "metadata": {},
   "source": [
    "Looking at the `distance_from_selected` it appears that our our trips are still fairly close to our selected trip.  Notice that most of the data is within a distance of .002 away, so going to the top 7 nearest neighbors didn't seem to give us neighbors too far from each other, which is a good sign.\n",
    "\n",
    "Still, it's hard to know what distance in latitude and longitude really look like, so let's map the data. "
   ]
  },
  {
   "cell_type": "code",
   "execution_count": null,
   "metadata": {},
   "outputs": [],
   "source": [
    "midtown_location = location(midtown_trip) # [40.76171, -73.98276]\n",
    "midtown_map = map_from(midtown_location, 16)\n",
    "closest_markers = markers_from_trips(seven_closest)\n",
    "\n",
    "add_markers(closest_markers, midtown_map)"
   ]
  },
  {
   "cell_type": "markdown",
   "metadata": {},
   "source": [
    "Ok.  These locations stay fairly close to our estimated location of 51st street and 7th Avenue.  So they could be a good estimate of a trip distance."
   ]
  },
  {
   "cell_type": "code",
   "execution_count": null,
   "metadata": {},
   "outputs": [],
   "source": [
    "mean_distance(seven_closest) # 2.009"
   ]
  },
  {
   "cell_type": "markdown",
   "metadata": {},
   "source": [
    "Ok, now let's try a different location"
   ]
  },
  {
   "cell_type": "code",
   "execution_count": null,
   "metadata": {},
   "outputs": [],
   "source": [
    "charging_bull_closest = nearest_neighbors({'pickup_latitude': 40.7049, 'pickup_longitude': -74.0137}, cleaned_trips, number = 12)"
   ]
  },
  {
   "cell_type": "code",
   "execution_count": null,
   "metadata": {
    "scrolled": true
   },
   "outputs": [],
   "source": [
    "mean_distance(charging_bull_closest) # 3.145"
   ]
  },
  {
   "cell_type": "markdown",
   "metadata": {},
   "source": [
    "Ok, so there appears to be a significant difference between choosing a location near Times Square versus choosing a location at Wall Street."
   ]
  },
  {
   "cell_type": "markdown",
   "metadata": {},
   "source": [
    "### Summary"
   ]
  },
  {
   "cell_type": "markdown",
   "metadata": {},
   "source": [
    "In this lab, we used the nearest neighbors function to predict the length of a taxi ride.  To do so, we selected a location, then found a number of taxi rides closest to that location, and finally took the average trip lengths of the nearest taxi rides to find an estimate of the new ride's trip length.  You can see that even with just a little bit of math and programming we can begin to make meaningful predictions with data."
   ]
  }
 ],
 "metadata": {
  "kernelspec": {
   "display_name": "Python 3",
   "language": "python",
   "name": "python3"
  },
  "language_info": {
   "codemirror_mode": {
    "name": "ipython",
    "version": 3
   },
   "file_extension": ".py",
   "mimetype": "text/x-python",
   "name": "python",
   "nbconvert_exporter": "python",
   "pygments_lexer": "ipython3",
   "version": "3.6.9"
  }
 },
 "nbformat": 4,
 "nbformat_minor": 2
}
